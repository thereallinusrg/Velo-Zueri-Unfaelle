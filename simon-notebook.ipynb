{
 "cells": [
  {
   "cell_type": "markdown",
   "metadata": {},
   "source": [
    "Libraries"
   ]
  },
  {
   "cell_type": "code",
   "execution_count": 4,
   "metadata": {},
   "outputs": [
    {
     "name": "stdout",
     "output_type": "stream",
     "text": [
      "Collecting package metadata (current_repodata.json): done\n",
      "Solving environment: done\n",
      "\n",
      "# All requested packages already installed.\n",
      "\n",
      "\n",
      "Note: you may need to restart the kernel to use updated packages.\n"
     ]
    }
   ],
   "source": [
    "conda install seaborn\n"
   ]
  },
  {
   "cell_type": "code",
   "execution_count": null,
   "metadata": {},
   "outputs": [],
   "source": [
    "# Turn it into a GeoDataFrame with point geometries\n",
    "Zaehlungen = gpd.GeoDataFrame(\n",
    "    Zaehlung_hourly, geometry=gpd.points_from_xy(\n",
    "        Zaehlung_hourly.OST, Zaehlung_hourly.NORD))"
   ]
  },
  {
   "cell_type": "code",
   "execution_count": 5,
   "metadata": {},
   "outputs": [],
   "source": [
    "from dateutil.parser import parse \n",
    "import matplotlib as mpl\n",
    "from matplotlib.pylab import rcParams\n",
    "\n",
    "\n",
    "import matplotlib.pyplot as plt\n",
    "import seaborn as sns\n",
    "import numpy as np\n",
    "import pandas as pd "
   ]
  },
  {
   "cell_type": "code",
   "execution_count": 6,
   "metadata": {},
   "outputs": [],
   "source": [
    "from matplotlib import pyplot"
   ]
  },
  {
   "cell_type": "code",
   "execution_count": 7,
   "metadata": {},
   "outputs": [],
   "source": [
    "import pandas as pd\n",
    "import geopandas as gpd\n",
    "from pyproj import Transformer"
   ]
  },
  {
   "cell_type": "code",
   "execution_count": 8,
   "metadata": {},
   "outputs": [],
   "source": [
    "#Read data\n",
    "VerkehrsZaehlung = pd.read_csv('/Users/simon/Desktop/$Uni Unterlagen/Uzh Skirptz/FS22/EOS403/project/Velo-Zueri-Unfaelle/data/2021_verkehrszaehlungen_werte_fussgaenger_velo.csv')\n",
    "VeloWege = gpd.read_file(r'data/Velo_wege.gpkg')\n",
    "Unfaelle = gpd.read_file(r'data/RoadTrafficAccidentLocations.gpkg')\n",
    "\n",
    "# Turn it into a GeoDataFrame with point geometries\n",
    "Zaehlungen = gpd.GeoDataFrame(\n",
    "    VerkehrsZaehlung, geometry=gpd.points_from_xy(\n",
    "        VerkehrsZaehlung.OST, VerkehrsZaehlung.NORD))"
   ]
  },
  {
   "cell_type": "code",
   "execution_count": 9,
   "metadata": {},
   "outputs": [],
   "source": [
    "accidents = pd.read_csv('/Users/simon/Desktop/$Uni Unterlagen/Uzh Skirptz/FS22/EOS403/project/Velo-Zueri-Unfaelle/data/accidentss.csv', sep = ';')"
   ]
  },
  {
   "cell_type": "code",
   "execution_count": 10,
   "metadata": {},
   "outputs": [
    {
     "data": {
      "text/html": [
       "<div>\n",
       "<style scoped>\n",
       "    .dataframe tbody tr th:only-of-type {\n",
       "        vertical-align: middle;\n",
       "    }\n",
       "\n",
       "    .dataframe tbody tr th {\n",
       "        vertical-align: top;\n",
       "    }\n",
       "\n",
       "    .dataframe thead th {\n",
       "        text-align: right;\n",
       "    }\n",
       "</style>\n",
       "<table border=\"1\" class=\"dataframe\">\n",
       "  <thead>\n",
       "    <tr style=\"text-align: right;\">\n",
       "      <th></th>\n",
       "      <th>AccidentLocation_CHLV95_E</th>\n",
       "      <th>AccidentLocation_CHLV95_N</th>\n",
       "      <th>MunicipalityCode</th>\n",
       "      <th>AccidentYear</th>\n",
       "      <th>AccidentMonth</th>\n",
       "      <th>AccidentHour</th>\n",
       "    </tr>\n",
       "  </thead>\n",
       "  <tbody>\n",
       "    <tr>\n",
       "      <th>count</th>\n",
       "      <td>5.991000e+03</td>\n",
       "      <td>5.991000e+03</td>\n",
       "      <td>5991.0</td>\n",
       "      <td>5991.000000</td>\n",
       "      <td>5991.000000</td>\n",
       "      <td>5991.000000</td>\n",
       "    </tr>\n",
       "    <tr>\n",
       "      <th>mean</th>\n",
       "      <td>2.682439e+06</td>\n",
       "      <td>1.248266e+06</td>\n",
       "      <td>261.0</td>\n",
       "      <td>2016.787515</td>\n",
       "      <td>6.861459</td>\n",
       "      <td>13.324153</td>\n",
       "    </tr>\n",
       "    <tr>\n",
       "      <th>std</th>\n",
       "      <td>1.599648e+03</td>\n",
       "      <td>1.947856e+03</td>\n",
       "      <td>0.0</td>\n",
       "      <td>2.987411</td>\n",
       "      <td>2.797835</td>\n",
       "      <td>5.393320</td>\n",
       "    </tr>\n",
       "    <tr>\n",
       "      <th>min</th>\n",
       "      <td>2.677442e+06</td>\n",
       "      <td>1.242107e+06</td>\n",
       "      <td>261.0</td>\n",
       "      <td>2011.000000</td>\n",
       "      <td>1.000000</td>\n",
       "      <td>0.000000</td>\n",
       "    </tr>\n",
       "    <tr>\n",
       "      <th>25%</th>\n",
       "      <td>2.681544e+06</td>\n",
       "      <td>1.247072e+06</td>\n",
       "      <td>261.0</td>\n",
       "      <td>2015.000000</td>\n",
       "      <td>5.000000</td>\n",
       "      <td>9.000000</td>\n",
       "    </tr>\n",
       "    <tr>\n",
       "      <th>50%</th>\n",
       "      <td>2.682550e+06</td>\n",
       "      <td>1.248013e+06</td>\n",
       "      <td>261.0</td>\n",
       "      <td>2017.000000</td>\n",
       "      <td>7.000000</td>\n",
       "      <td>14.000000</td>\n",
       "    </tr>\n",
       "    <tr>\n",
       "      <th>75%</th>\n",
       "      <td>2.683406e+06</td>\n",
       "      <td>1.249332e+06</td>\n",
       "      <td>261.0</td>\n",
       "      <td>2019.000000</td>\n",
       "      <td>9.000000</td>\n",
       "      <td>18.000000</td>\n",
       "    </tr>\n",
       "    <tr>\n",
       "      <th>max</th>\n",
       "      <td>2.689354e+06</td>\n",
       "      <td>1.254093e+06</td>\n",
       "      <td>261.0</td>\n",
       "      <td>2021.000000</td>\n",
       "      <td>12.000000</td>\n",
       "      <td>23.000000</td>\n",
       "    </tr>\n",
       "  </tbody>\n",
       "</table>\n",
       "</div>"
      ],
      "text/plain": [
       "       AccidentLocation_CHLV95_E  AccidentLocation_CHLV95_N  MunicipalityCode  \\\n",
       "count               5.991000e+03               5.991000e+03            5991.0   \n",
       "mean                2.682439e+06               1.248266e+06             261.0   \n",
       "std                 1.599648e+03               1.947856e+03               0.0   \n",
       "min                 2.677442e+06               1.242107e+06             261.0   \n",
       "25%                 2.681544e+06               1.247072e+06             261.0   \n",
       "50%                 2.682550e+06               1.248013e+06             261.0   \n",
       "75%                 2.683406e+06               1.249332e+06             261.0   \n",
       "max                 2.689354e+06               1.254093e+06             261.0   \n",
       "\n",
       "       AccidentYear  AccidentMonth  AccidentHour  \n",
       "count   5991.000000    5991.000000   5991.000000  \n",
       "mean    2016.787515       6.861459     13.324153  \n",
       "std        2.987411       2.797835      5.393320  \n",
       "min     2011.000000       1.000000      0.000000  \n",
       "25%     2015.000000       5.000000      9.000000  \n",
       "50%     2017.000000       7.000000     14.000000  \n",
       "75%     2019.000000       9.000000     18.000000  \n",
       "max     2021.000000      12.000000     23.000000  "
      ]
     },
     "execution_count": 10,
     "metadata": {},
     "output_type": "execute_result"
    }
   ],
   "source": [
    "unf = Unfaelle[Unfaelle[\"AccidentInvolvingBicycle\"] == True]\n",
    "unf.describe()"
   ]
  },
  {
   "cell_type": "code",
   "execution_count": null,
   "metadata": {},
   "outputs": [],
   "source": []
  },
  {
   "cell_type": "markdown",
   "metadata": {},
   "source": [
    "1: First, we will conduct an EDA on all three data-sets to get a feeling for the data\n"
   ]
  },
  {
   "cell_type": "code",
   "execution_count": 11,
   "metadata": {},
   "outputs": [],
   "source": [
    "#sort everything by accidenthour for better plotting\n",
    "unf = unf.sort_values(by = ['AccidentHour_text'])"
   ]
  },
  {
   "cell_type": "code",
   "execution_count": 12,
   "metadata": {},
   "outputs": [
    {
     "data": {
      "text/plain": [
       "(array([  0., 100., 200., 300., 400., 500., 600.]),\n",
       " [Text(0, 0, ''),\n",
       "  Text(0, 0, ''),\n",
       "  Text(0, 0, ''),\n",
       "  Text(0, 0, ''),\n",
       "  Text(0, 0, ''),\n",
       "  Text(0, 0, ''),\n",
       "  Text(0, 0, '')])"
      ]
     },
     "execution_count": 12,
     "metadata": {},
     "output_type": "execute_result"
    },
    {
     "data": {
      "image/png": "[encoded data removed]",
      "text/plain": [
       "<Figure size 1440x720 with 1 Axes>"
      ]
     },
     "metadata": {
      "needs_background": "light"
     },
     "output_type": "display_data"
    }
   ],
   "source": [
    "fig = plt.figure(figsize=(20,10))\n",
    "sns.histplot(data = unf.AccidentHour_text, color = 'blue')\n",
    "plt.title('Accidents by time of day',fontsize=35)\n",
    "plt.xlabel('Hour of Day',fontsize=30)\n",
    "plt.ylabel('Count',fontsize=30)\n",
    "\n",
    "plt.yticks(fontsize=25)\n"
   ]
  },
  {
   "cell_type": "code",
   "execution_count": 13,
   "metadata": {},
   "outputs": [],
   "source": [
    "#sort everything by accidentweekday for better plotting\n",
    "unf = unf.sort_values(by = ['AccidentWeekDay'])"
   ]
  },
  {
   "cell_type": "code",
   "execution_count": 14,
   "metadata": {},
   "outputs": [
    {
     "data": {
      "text/plain": [
       "(array([   0.,  200.,  400.,  600.,  800., 1000., 1200.]),\n",
       " [Text(0, 0, ''),\n",
       "  Text(0, 0, ''),\n",
       "  Text(0, 0, ''),\n",
       "  Text(0, 0, ''),\n",
       "  Text(0, 0, ''),\n",
       "  Text(0, 0, ''),\n",
       "  Text(0, 0, '')])"
      ]
     },
     "execution_count": 14,
     "metadata": {},
     "output_type": "execute_result"
    },
    {
     "data": {
      "image/png": "[encoded data removed]",
      "text/plain": [
       "<Figure size 1296x648 with 1 Axes>"
      ]
     },
     "metadata": {
      "needs_background": "light"
     },
     "output_type": "display_data"
    }
   ],
   "source": [
    "fig = plt.figure(figsize=(18,9))\n",
    "sns.set_style(\"white\")\n",
    "sns.histplot(unf.AccidentWeekDay_en,  color = 'blue')\n",
    "plt.title('Accidents per Weekday',fontsize=35)\n",
    "plt.xlabel('Day',fontsize=30)\n",
    "plt.ylabel('Count',fontsize=30)\n",
    "plt.xticks(fontsize=25)\n",
    "plt.yticks(fontsize=25)\n"
   ]
  },
  {
   "cell_type": "code",
   "execution_count": 23,
   "metadata": {},
   "outputs": [],
   "source": [
    "#sort everything by accidentweekday for better plotting\n",
    "unf = unf.sort_values(by = ['AccidentType'], ascending=False)"
   ]
  },
  {
   "cell_type": "code",
   "execution_count": 31,
   "metadata": {},
   "outputs": [
    {
     "data": {
      "text/plain": [
       "Text(0, 0.5, 'Count')"
      ]
     },
     "execution_count": 31,
     "metadata": {},
     "output_type": "execute_result"
    },
    {
     "data": {
      "image/png": "[encoded data removed]",
      "text/plain": [
       "<Figure size 432x288 with 1 Axes>"
      ]
     },
     "metadata": {},
     "output_type": "display_data"
    }
   ],
   "source": [
    "fig = plt.figure()\n",
    "sns.histplot(data = unf.AccidentType , color = 'red')\n",
    "plt.title('Accidents per Weekday',fontsize=16)\n",
    "plt.xlabel('Accident Day',fontsize=14)\n",
    "plt.ylabel('Count',fontsize=14)"
   ]
  },
  {
   "cell_type": "code",
   "execution_count": 62,
   "metadata": {},
   "outputs": [
    {
     "data": {
      "text/html": [
       "<div>\n",
       "<style scoped>\n",
       "    .dataframe tbody tr th:only-of-type {\n",
       "        vertical-align: middle;\n",
       "    }\n",
       "\n",
       "    .dataframe tbody tr th {\n",
       "        vertical-align: top;\n",
       "    }\n",
       "\n",
       "    .dataframe thead th {\n",
       "        text-align: right;\n",
       "    }\n",
       "</style>\n",
       "<table border=\"1\" class=\"dataframe\">\n",
       "  <thead>\n",
       "    <tr style=\"text-align: right;\">\n",
       "      <th></th>\n",
       "      <th>Order</th>\n",
       "      <th>Unnamed: 1</th>\n",
       "      <th>AccidentType</th>\n",
       "      <th>AccidentType_de</th>\n",
       "      <th>AccidentType_en</th>\n",
       "      <th>types</th>\n",
       "      <th>AccidentSeverityCategory</th>\n",
       "      <th>AccidentSeverityCategory_de</th>\n",
       "      <th>AccidentSeverityCategory_en</th>\n",
       "      <th>AccidentInvolvingPedestrian</th>\n",
       "      <th>...</th>\n",
       "      <th>AccidentYear</th>\n",
       "      <th>AccidentMonth</th>\n",
       "      <th>AccidentMonth_de</th>\n",
       "      <th>AccidentWeekDay</th>\n",
       "      <th>AccidentWeekDay_de</th>\n",
       "      <th>AccidentHour</th>\n",
       "      <th>AccidentHour_text</th>\n",
       "      <th>Unnamed: 26</th>\n",
       "      <th>Unnamed: 27</th>\n",
       "      <th>Unnamed: 28</th>\n",
       "    </tr>\n",
       "  </thead>\n",
       "  <tbody>\n",
       "    <tr>\n",
       "      <th>0</th>\n",
       "      <td>3</td>\n",
       "      <td>BD0108A4C0AA5797E053DDB9D80A6DE2</td>\n",
       "      <td>at1</td>\n",
       "      <td>Überholunfall oder Fahrstreifenwechsel</td>\n",
       "      <td>Accident when overtaking or changing lanes</td>\n",
       "      <td>overtaking/changing lanes</td>\n",
       "      <td>as3</td>\n",
       "      <td>Unfall mit Leichtverletzten</td>\n",
       "      <td>Accident with light injuries</td>\n",
       "      <td>False</td>\n",
       "      <td>...</td>\n",
       "      <td>2021</td>\n",
       "      <td>1</td>\n",
       "      <td>Januar</td>\n",
       "      <td>aw402</td>\n",
       "      <td>Dienstag</td>\n",
       "      <td>12</td>\n",
       "      <td>12h-13h</td>\n",
       "      <td>NaN</td>\n",
       "      <td>NaN</td>\n",
       "      <td>NaN</td>\n",
       "    </tr>\n",
       "    <tr>\n",
       "      <th>1</th>\n",
       "      <td>1</td>\n",
       "      <td>B9B4FA6053F24D18E053DDB9D80AA25F</td>\n",
       "      <td>at0</td>\n",
       "      <td>Schleuder- oder Selbstunfall</td>\n",
       "      <td>Accident with skidding or self-accident</td>\n",
       "      <td>Skidding/Self-accident</td>\n",
       "      <td>as3</td>\n",
       "      <td>Unfall mit Leichtverletzten</td>\n",
       "      <td>Accident with light injuries</td>\n",
       "      <td>False</td>\n",
       "      <td>...</td>\n",
       "      <td>2021</td>\n",
       "      <td>1</td>\n",
       "      <td>Januar</td>\n",
       "      <td>aw403</td>\n",
       "      <td>Mittwoch</td>\n",
       "      <td>18</td>\n",
       "      <td>18h-19h</td>\n",
       "      <td>NaN</td>\n",
       "      <td>NaN</td>\n",
       "      <td>NaN</td>\n",
       "    </tr>\n",
       "    <tr>\n",
       "      <th>2</th>\n",
       "      <td>1</td>\n",
       "      <td>B89AB3CD7B723813E053DDB9D80AC872</td>\n",
       "      <td>at0</td>\n",
       "      <td>Schleuder- oder Selbstunfall</td>\n",
       "      <td>Accident with skidding or self-accident</td>\n",
       "      <td>Skidding/Self-accident</td>\n",
       "      <td>as2</td>\n",
       "      <td>Unfall mit Schwerverletzten</td>\n",
       "      <td>Accident with severe injuries</td>\n",
       "      <td>False</td>\n",
       "      <td>...</td>\n",
       "      <td>2021</td>\n",
       "      <td>1</td>\n",
       "      <td>Januar</td>\n",
       "      <td>aw402</td>\n",
       "      <td>Dienstag</td>\n",
       "      <td>17</td>\n",
       "      <td>17h-18h</td>\n",
       "      <td>NaN</td>\n",
       "      <td>NaN</td>\n",
       "      <td>NaN</td>\n",
       "    </tr>\n",
       "    <tr>\n",
       "      <th>3</th>\n",
       "      <td>1</td>\n",
       "      <td>B93C4E6792D1F31FE053DDB9D80A6C60</td>\n",
       "      <td>at0</td>\n",
       "      <td>Schleuder- oder Selbstunfall</td>\n",
       "      <td>Accident with skidding or self-accident</td>\n",
       "      <td>Skidding/Self-accident</td>\n",
       "      <td>as2</td>\n",
       "      <td>Unfall mit Schwerverletzten</td>\n",
       "      <td>Accident with severe injuries</td>\n",
       "      <td>False</td>\n",
       "      <td>...</td>\n",
       "      <td>2021</td>\n",
       "      <td>1</td>\n",
       "      <td>Januar</td>\n",
       "      <td>aw402</td>\n",
       "      <td>Dienstag</td>\n",
       "      <td>17</td>\n",
       "      <td>17h-18h</td>\n",
       "      <td>NaN</td>\n",
       "      <td>NaN</td>\n",
       "      <td>NaN</td>\n",
       "    </tr>\n",
       "    <tr>\n",
       "      <th>4</th>\n",
       "      <td>1</td>\n",
       "      <td>B928CA6BBD55222EE053DDB9D80A74EC</td>\n",
       "      <td>at0</td>\n",
       "      <td>Schleuder- oder Selbstunfall</td>\n",
       "      <td>Accident with skidding or self-accident</td>\n",
       "      <td>Skidding/Self-accident</td>\n",
       "      <td>as3</td>\n",
       "      <td>Unfall mit Leichtverletzten</td>\n",
       "      <td>Accident with light injuries</td>\n",
       "      <td>False</td>\n",
       "      <td>...</td>\n",
       "      <td>2021</td>\n",
       "      <td>1</td>\n",
       "      <td>Januar</td>\n",
       "      <td>aw402</td>\n",
       "      <td>Dienstag</td>\n",
       "      <td>8</td>\n",
       "      <td>08h-09h</td>\n",
       "      <td>NaN</td>\n",
       "      <td>NaN</td>\n",
       "      <td>0.0</td>\n",
       "    </tr>\n",
       "  </tbody>\n",
       "</table>\n",
       "<p>5 rows × 29 columns</p>\n",
       "</div>"
      ],
      "text/plain": [
       "   Order                        Unnamed: 1 AccidentType  \\\n",
       "0      3  BD0108A4C0AA5797E053DDB9D80A6DE2          at1   \n",
       "1      1  B9B4FA6053F24D18E053DDB9D80AA25F          at0   \n",
       "2      1  B89AB3CD7B723813E053DDB9D80AC872          at0   \n",
       "3      1  B93C4E6792D1F31FE053DDB9D80A6C60          at0   \n",
       "4      1  B928CA6BBD55222EE053DDB9D80A74EC          at0   \n",
       "\n",
       "                          AccidentType_de  \\\n",
       "0  Überholunfall oder Fahrstreifenwechsel   \n",
       "1            Schleuder- oder Selbstunfall   \n",
       "2            Schleuder- oder Selbstunfall   \n",
       "3            Schleuder- oder Selbstunfall   \n",
       "4            Schleuder- oder Selbstunfall   \n",
       "\n",
       "                              AccidentType_en                      types  \\\n",
       "0  Accident when overtaking or changing lanes  overtaking/changing lanes   \n",
       "1     Accident with skidding or self-accident     Skidding/Self-accident   \n",
       "2     Accident with skidding or self-accident     Skidding/Self-accident   \n",
       "3     Accident with skidding or self-accident     Skidding/Self-accident   \n",
       "4     Accident with skidding or self-accident     Skidding/Self-accident   \n",
       "\n",
       "  AccidentSeverityCategory  AccidentSeverityCategory_de  \\\n",
       "0                      as3  Unfall mit Leichtverletzten   \n",
       "1                      as3  Unfall mit Leichtverletzten   \n",
       "2                      as2  Unfall mit Schwerverletzten   \n",
       "3                      as2  Unfall mit Schwerverletzten   \n",
       "4                      as3  Unfall mit Leichtverletzten   \n",
       "\n",
       "     AccidentSeverityCategory_en  AccidentInvolvingPedestrian  ...  \\\n",
       "0   Accident with light injuries                        False  ...   \n",
       "1   Accident with light injuries                        False  ...   \n",
       "2  Accident with severe injuries                        False  ...   \n",
       "3  Accident with severe injuries                        False  ...   \n",
       "4   Accident with light injuries                        False  ...   \n",
       "\n",
       "   AccidentYear  AccidentMonth AccidentMonth_de AccidentWeekDay  \\\n",
       "0          2021              1           Januar           aw402   \n",
       "1          2021              1           Januar           aw403   \n",
       "2          2021              1           Januar           aw402   \n",
       "3          2021              1           Januar           aw402   \n",
       "4          2021              1           Januar           aw402   \n",
       "\n",
       "  AccidentWeekDay_de  AccidentHour  AccidentHour_text Unnamed: 26  \\\n",
       "0           Dienstag            12            12h-13h         NaN   \n",
       "1           Mittwoch            18            18h-19h         NaN   \n",
       "2           Dienstag            17            17h-18h         NaN   \n",
       "3           Dienstag            17            17h-18h         NaN   \n",
       "4           Dienstag             8            08h-09h         NaN   \n",
       "\n",
       "   Unnamed: 27  Unnamed: 28  \n",
       "0          NaN          NaN  \n",
       "1          NaN          NaN  \n",
       "2          NaN          NaN  \n",
       "3          NaN          NaN  \n",
       "4          NaN          0.0  \n",
       "\n",
       "[5 rows x 29 columns]"
      ]
     },
     "execution_count": 62,
     "metadata": {},
     "output_type": "execute_result"
    }
   ],
   "source": [
    "acci = pd.read_csv('/Users/simon/Desktop/$Uni Unterlagen/Uzh Skirptz/FS22/EOS403/project/Velo-Zueri-Unfaelle/data/accidentsss.csv', sep = ';')\n",
    "acci.head()"
   ]
  },
  {
   "cell_type": "code",
   "execution_count": 68,
   "metadata": {},
   "outputs": [
    {
     "data": {
      "text/plain": [
       "(array([  0.,  50., 100., 150., 200., 250., 300.]),\n",
       " [Text(0, 0, ''),\n",
       "  Text(0, 0, ''),\n",
       "  Text(0, 0, ''),\n",
       "  Text(0, 0, ''),\n",
       "  Text(0, 0, ''),\n",
       "  Text(0, 0, ''),\n",
       "  Text(0, 0, '')])"
      ]
     },
     "execution_count": 68,
     "metadata": {},
     "output_type": "execute_result"
    },
    {
     "data": {
      "image/png": "[encoded data removed]",
      "text/plain": [
       "<Figure size 1440x720 with 1 Axes>"
      ]
     },
     "metadata": {},
     "output_type": "display_data"
    }
   ],
   "source": [
    "acci = acci.sort_values(by=['Order'])\n",
    "fig = plt.figure(figsize=(20,10))\n",
    "sns.histplot(data = acci.types, color = 'blue' ,binwidth=0.1)\n",
    "plt.title('Accident Types',fontsize=35)\n",
    "plt.xlabel('Type',fontsize=30)\n",
    "plt.ylabel('Count',fontsize=30)\n",
    "plt.xticks(fontsize=25)\n",
    "plt.yticks(fontsize=25)"
   ]
  },
  {
   "cell_type": "code",
   "execution_count": 70,
   "metadata": {},
   "outputs": [
    {
     "data": {
      "text/plain": [
       "count     5991\n",
       "unique      11\n",
       "top        at0\n",
       "freq      2203\n",
       "Name: AccidentType, dtype: object"
      ]
     },
     "execution_count": 70,
     "metadata": {},
     "output_type": "execute_result"
    },
    {
     "data": {
      "image/png": "[encoded data removed]",
      "text/plain": [
       "<Figure size 1440x720 with 1 Axes>"
      ]
     },
     "metadata": {},
     "output_type": "display_data"
    }
   ],
   "source": [
    "fig = plt.figure(figsize=(20,10))\n",
    "sns.histplot(data = unf.AccidentType, color = 'blue' ,binwidth=0.1)\n",
    "plt.title('Accident Types',fontsize=35)\n",
    "plt.xlabel('Type',fontsize=30)\n",
    "plt.ylabel('Count',fontsize=30)\n",
    "plt.xticks(fontsize=25)\n",
    "plt.yticks(fontsize=25)\n",
    "\n",
    "unf.AccidentType.describe()"
   ]
  },
  {
   "cell_type": "code",
   "execution_count": null,
   "metadata": {},
   "outputs": [],
   "source": []
  },
  {
   "cell_type": "code",
   "execution_count": null,
   "metadata": {},
   "outputs": [],
   "source": [
    "#sort everything by accidentmonth for better plotting\n",
    "unf = unf.sort_values(by = ['AccidentMonth'])"
   ]
  },
  {
   "cell_type": "code",
   "execution_count": 53,
   "metadata": {},
   "outputs": [
    {
     "data": {
      "text/plain": [
       "(array([  0., 100., 200., 300., 400., 500., 600., 700., 800., 900.]),\n",
       " [Text(0, 0, ''),\n",
       "  Text(0, 0, ''),\n",
       "  Text(0, 0, ''),\n",
       "  Text(0, 0, ''),\n",
       "  Text(0, 0, ''),\n",
       "  Text(0, 0, ''),\n",
       "  Text(0, 0, ''),\n",
       "  Text(0, 0, ''),\n",
       "  Text(0, 0, ''),\n",
       "  Text(0, 0, '')])"
      ]
     },
     "execution_count": 53,
     "metadata": {},
     "output_type": "execute_result"
    },
    {
     "data": {
      "image/png": "[encoded data removed]",
      "text/plain": [
       "<Figure size 1440x720 with 1 Axes>"
      ]
     },
     "metadata": {},
     "output_type": "display_data"
    }
   ],
   "source": [
    "fig = plt.figure(figsize=(20,10))\n",
    "sns.histplot(data = unf.AccidentMonth_en, color = 'blue' ,binwidth=0.5)\n",
    "plt.title('Accidents per Month',fontsize=35)\n",
    "plt.xlabel('Month',fontsize=30)\n",
    "plt.ylabel('Count',fontsize=30)\n",
    "plt.xticks(fontsize=25)\n",
    "plt.yticks(fontsize=25)"
   ]
  },
  {
   "cell_type": "code",
   "execution_count": 205,
   "metadata": {},
   "outputs": [],
   "source": [
    "#sort everything by accidentYear for better plotting\n",
    "unf = unf.sort_values(by = ['AccidentYear'])"
   ]
  },
  {
   "cell_type": "code",
   "execution_count": 208,
   "metadata": {},
   "outputs": [
    {
     "data": {
      "text/plain": [
       "0        2011\n",
       "1        2011\n",
       "2        2011\n",
       "3        2011\n",
       "4        2011\n",
       "         ... \n",
       "53441    2021\n",
       "53442    2021\n",
       "53443    2021\n",
       "53444    2021\n",
       "53445    2021\n",
       "Name: AccidentYear, Length: 53446, dtype: int64"
      ]
     },
     "execution_count": 208,
     "metadata": {},
     "output_type": "execute_result"
    }
   ],
   "source": []
  },
  {
   "cell_type": "code",
   "execution_count": 212,
   "metadata": {},
   "outputs": [
    {
     "data": {
      "text/plain": [
       "Text(0, 0.5, 'Count')"
      ]
     },
     "execution_count": 212,
     "metadata": {},
     "output_type": "execute_result"
    },
    {
     "data": {
      "image/png": "[encoded data removed]",
      "text/plain": [
       "<Figure size 1440x720 with 1 Axes>"
      ]
     },
     "metadata": {
      "needs_background": "light"
     },
     "output_type": "display_data"
    }
   ],
   "source": [
    "fig = plt.figure(figsize= (20,10))\n",
    "sns.histplot(data = Unfaelle.AccidentYear, color = 'red' )\n",
    "plt.title('Accidents per Year',fontsize=16)\n",
    "plt.xlabel('Accident Day',fontsize=14)\n",
    "plt.ylabel('Count',fontsize=14)"
   ]
  },
  {
   "cell_type": "code",
   "execution_count": 14,
   "metadata": {},
   "outputs": [
    {
     "ename": "KeyboardInterrupt",
     "evalue": "",
     "output_type": "error",
     "traceback": [
      "\u001b[0;31m---------------------------------------------------------------------------\u001b[0m",
      "\u001b[0;31mKeyboardInterrupt\u001b[0m                         Traceback (most recent call last)",
      "\u001b[0;32m/var/folders/xw/nkrcq2b967l17kzmtv_v3hf40000gn/T/ipykernel_54172/1887793222.py\u001b[0m in \u001b[0;36m<module>\u001b[0;34m\u001b[0m\n\u001b[0;32m----> 1\u001b[0;31m \u001b[0mZaehlungen\u001b[0m\u001b[0;34m.\u001b[0m\u001b[0mplot\u001b[0m\u001b[0;34m(\u001b[0m\u001b[0;34m)\u001b[0m\u001b[0;34m\u001b[0m\u001b[0;34m\u001b[0m\u001b[0m\n\u001b[0m\u001b[1;32m      2\u001b[0m \u001b[0mZaehlungen\u001b[0m\u001b[0;34m.\u001b[0m\u001b[0mplot\u001b[0m\u001b[0;34m.\u001b[0m\u001b[0mtitle\u001b[0m\u001b[0;34m(\u001b[0m\u001b[0;34m'Zae'\u001b[0m\u001b[0;34m)\u001b[0m\u001b[0;34m\u001b[0m\u001b[0;34m\u001b[0m\u001b[0m\n",
      "\u001b[0;32m/opt/anaconda3/envs/myenv/lib/python3.7/site-packages/geopandas/plotting.py\u001b[0m in \u001b[0;36m__call__\u001b[0;34m(self, *args, **kwargs)\u001b[0m\n\u001b[1;32m    923\u001b[0m             \u001b[0mkind\u001b[0m \u001b[0;34m=\u001b[0m \u001b[0mkwargs\u001b[0m\u001b[0;34m.\u001b[0m\u001b[0mpop\u001b[0m\u001b[0;34m(\u001b[0m\u001b[0;34m\"kind\"\u001b[0m\u001b[0;34m,\u001b[0m \u001b[0;34m\"geo\"\u001b[0m\u001b[0;34m)\u001b[0m\u001b[0;34m\u001b[0m\u001b[0;34m\u001b[0m\u001b[0m\n\u001b[1;32m    924\u001b[0m             \u001b[0;32mif\u001b[0m \u001b[0mkind\u001b[0m \u001b[0;34m==\u001b[0m \u001b[0;34m\"geo\"\u001b[0m\u001b[0;34m:\u001b[0m\u001b[0;34m\u001b[0m\u001b[0;34m\u001b[0m\u001b[0m\n\u001b[0;32m--> 925\u001b[0;31m                 \u001b[0;32mreturn\u001b[0m \u001b[0mplot_dataframe\u001b[0m\u001b[0;34m(\u001b[0m\u001b[0mdata\u001b[0m\u001b[0;34m,\u001b[0m \u001b[0;34m*\u001b[0m\u001b[0margs\u001b[0m\u001b[0;34m,\u001b[0m \u001b[0;34m**\u001b[0m\u001b[0mkwargs\u001b[0m\u001b[0;34m)\u001b[0m\u001b[0;34m\u001b[0m\u001b[0;34m\u001b[0m\u001b[0m\n\u001b[0m\u001b[1;32m    926\u001b[0m             \u001b[0;32mif\u001b[0m \u001b[0mkind\u001b[0m \u001b[0;32min\u001b[0m \u001b[0mself\u001b[0m\u001b[0;34m.\u001b[0m\u001b[0m_pandas_kinds\u001b[0m\u001b[0;34m:\u001b[0m\u001b[0;34m\u001b[0m\u001b[0;34m\u001b[0m\u001b[0m\n\u001b[1;32m    927\u001b[0m                 \u001b[0;31m# Access pandas plots\u001b[0m\u001b[0;34m\u001b[0m\u001b[0;34m\u001b[0m\u001b[0;34m\u001b[0m\u001b[0m\n",
      "\u001b[0;32m/opt/anaconda3/envs/myenv/lib/python3.7/site-packages/geopandas/plotting.py\u001b[0m in \u001b[0;36mplot_dataframe\u001b[0;34m(df, column, cmap, color, ax, cax, categorical, legend, scheme, k, vmin, vmax, markersize, figsize, legend_kwds, categories, classification_kwds, missing_kwds, aspect, **style_kwds)\u001b[0m\n\u001b[1;32m    695\u001b[0m             \u001b[0mmarkersize\u001b[0m\u001b[0;34m=\u001b[0m\u001b[0mmarkersize\u001b[0m\u001b[0;34m,\u001b[0m\u001b[0;34m\u001b[0m\u001b[0;34m\u001b[0m\u001b[0m\n\u001b[1;32m    696\u001b[0m             \u001b[0maspect\u001b[0m\u001b[0;34m=\u001b[0m\u001b[0maspect\u001b[0m\u001b[0;34m,\u001b[0m\u001b[0;34m\u001b[0m\u001b[0;34m\u001b[0m\u001b[0m\n\u001b[0;32m--> 697\u001b[0;31m             \u001b[0;34m**\u001b[0m\u001b[0mstyle_kwds\u001b[0m\u001b[0;34m,\u001b[0m\u001b[0;34m\u001b[0m\u001b[0;34m\u001b[0m\u001b[0m\n\u001b[0m\u001b[1;32m    698\u001b[0m         )\n\u001b[1;32m    699\u001b[0m \u001b[0;34m\u001b[0m\u001b[0m\n",
      "\u001b[0;32m/opt/anaconda3/envs/myenv/lib/python3.7/site-packages/geopandas/plotting.py\u001b[0m in \u001b[0;36mplot_series\u001b[0;34m(s, cmap, color, ax, figsize, aspect, **style_kwds)\u001b[0m\n\u001b[1;32m    462\u001b[0m         \u001b[0mvalues_\u001b[0m \u001b[0;34m=\u001b[0m \u001b[0mvalues\u001b[0m\u001b[0;34m[\u001b[0m\u001b[0mpoint_idx\u001b[0m\u001b[0;34m]\u001b[0m \u001b[0;32mif\u001b[0m \u001b[0mcmap\u001b[0m \u001b[0;32melse\u001b[0m \u001b[0;32mNone\u001b[0m\u001b[0;34m\u001b[0m\u001b[0;34m\u001b[0m\u001b[0m\n\u001b[1;32m    463\u001b[0m         _plot_point_collection(\n\u001b[0;32m--> 464\u001b[0;31m             \u001b[0max\u001b[0m\u001b[0;34m,\u001b[0m \u001b[0mpoints\u001b[0m\u001b[0;34m,\u001b[0m \u001b[0mvalues_\u001b[0m\u001b[0;34m,\u001b[0m \u001b[0mcolor\u001b[0m\u001b[0;34m=\u001b[0m\u001b[0mcolor\u001b[0m\u001b[0;34m,\u001b[0m \u001b[0mcmap\u001b[0m\u001b[0;34m=\u001b[0m\u001b[0mcmap\u001b[0m\u001b[0;34m,\u001b[0m \u001b[0;34m**\u001b[0m\u001b[0mstyle_kwds\u001b[0m\u001b[0;34m\u001b[0m\u001b[0;34m\u001b[0m\u001b[0m\n\u001b[0m\u001b[1;32m    465\u001b[0m         )\n\u001b[1;32m    466\u001b[0m \u001b[0;34m\u001b[0m\u001b[0m\n",
      "\u001b[0;32m/opt/anaconda3/envs/myenv/lib/python3.7/site-packages/geopandas/plotting.py\u001b[0m in \u001b[0;36m_plot_point_collection\u001b[0;34m(ax, geoms, values, color, cmap, vmin, vmax, marker, markersize, **kwargs)\u001b[0m\n\u001b[1;32m    284\u001b[0m     \u001b[0;31m# values are expanded below as kwargs[\"c\"]\u001b[0m\u001b[0;34m\u001b[0m\u001b[0;34m\u001b[0m\u001b[0;34m\u001b[0m\u001b[0m\n\u001b[1;32m    285\u001b[0m \u001b[0;34m\u001b[0m\u001b[0m\n\u001b[0;32m--> 286\u001b[0;31m     \u001b[0mx\u001b[0m \u001b[0;34m=\u001b[0m \u001b[0;34m[\u001b[0m\u001b[0mp\u001b[0m\u001b[0;34m.\u001b[0m\u001b[0mx\u001b[0m \u001b[0;32mif\u001b[0m \u001b[0;32mnot\u001b[0m \u001b[0mp\u001b[0m\u001b[0;34m.\u001b[0m\u001b[0mis_empty\u001b[0m \u001b[0;32melse\u001b[0m \u001b[0;32mNone\u001b[0m \u001b[0;32mfor\u001b[0m \u001b[0mp\u001b[0m \u001b[0;32min\u001b[0m \u001b[0mgeoms\u001b[0m\u001b[0;34m]\u001b[0m\u001b[0;34m\u001b[0m\u001b[0;34m\u001b[0m\u001b[0m\n\u001b[0m\u001b[1;32m    287\u001b[0m     \u001b[0my\u001b[0m \u001b[0;34m=\u001b[0m \u001b[0;34m[\u001b[0m\u001b[0mp\u001b[0m\u001b[0;34m.\u001b[0m\u001b[0my\u001b[0m \u001b[0;32mif\u001b[0m \u001b[0;32mnot\u001b[0m \u001b[0mp\u001b[0m\u001b[0;34m.\u001b[0m\u001b[0mis_empty\u001b[0m \u001b[0;32melse\u001b[0m \u001b[0;32mNone\u001b[0m \u001b[0;32mfor\u001b[0m \u001b[0mp\u001b[0m \u001b[0;32min\u001b[0m \u001b[0mgeoms\u001b[0m\u001b[0;34m]\u001b[0m\u001b[0;34m\u001b[0m\u001b[0;34m\u001b[0m\u001b[0m\n\u001b[1;32m    288\u001b[0m \u001b[0;34m\u001b[0m\u001b[0m\n",
      "\u001b[0;32m/opt/anaconda3/envs/myenv/lib/python3.7/site-packages/geopandas/plotting.py\u001b[0m in \u001b[0;36m<listcomp>\u001b[0;34m(.0)\u001b[0m\n\u001b[1;32m    284\u001b[0m     \u001b[0;31m# values are expanded below as kwargs[\"c\"]\u001b[0m\u001b[0;34m\u001b[0m\u001b[0;34m\u001b[0m\u001b[0;34m\u001b[0m\u001b[0m\n\u001b[1;32m    285\u001b[0m \u001b[0;34m\u001b[0m\u001b[0m\n\u001b[0;32m--> 286\u001b[0;31m     \u001b[0mx\u001b[0m \u001b[0;34m=\u001b[0m \u001b[0;34m[\u001b[0m\u001b[0mp\u001b[0m\u001b[0;34m.\u001b[0m\u001b[0mx\u001b[0m \u001b[0;32mif\u001b[0m \u001b[0;32mnot\u001b[0m \u001b[0mp\u001b[0m\u001b[0;34m.\u001b[0m\u001b[0mis_empty\u001b[0m \u001b[0;32melse\u001b[0m \u001b[0;32mNone\u001b[0m \u001b[0;32mfor\u001b[0m \u001b[0mp\u001b[0m \u001b[0;32min\u001b[0m \u001b[0mgeoms\u001b[0m\u001b[0;34m]\u001b[0m\u001b[0;34m\u001b[0m\u001b[0;34m\u001b[0m\u001b[0m\n\u001b[0m\u001b[1;32m    287\u001b[0m     \u001b[0my\u001b[0m \u001b[0;34m=\u001b[0m \u001b[0;34m[\u001b[0m\u001b[0mp\u001b[0m\u001b[0;34m.\u001b[0m\u001b[0my\u001b[0m \u001b[0;32mif\u001b[0m \u001b[0;32mnot\u001b[0m \u001b[0mp\u001b[0m\u001b[0;34m.\u001b[0m\u001b[0mis_empty\u001b[0m \u001b[0;32melse\u001b[0m \u001b[0;32mNone\u001b[0m \u001b[0;32mfor\u001b[0m \u001b[0mp\u001b[0m \u001b[0;32min\u001b[0m \u001b[0mgeoms\u001b[0m\u001b[0;34m]\u001b[0m\u001b[0;34m\u001b[0m\u001b[0;34m\u001b[0m\u001b[0m\n\u001b[1;32m    288\u001b[0m \u001b[0;34m\u001b[0m\u001b[0m\n",
      "\u001b[0;32m/opt/anaconda3/envs/myenv/lib/python3.7/site-packages/shapely/geometry/point.py\u001b[0m in \u001b[0;36mx\u001b[0;34m(self)\u001b[0m\n\u001b[1;32m     53\u001b[0m     \u001b[0;32mdef\u001b[0m \u001b[0mx\u001b[0m\u001b[0;34m(\u001b[0m\u001b[0mself\u001b[0m\u001b[0;34m)\u001b[0m\u001b[0;34m:\u001b[0m\u001b[0;34m\u001b[0m\u001b[0;34m\u001b[0m\u001b[0m\n\u001b[1;32m     54\u001b[0m         \u001b[0;34m\"\"\"Return x coordinate.\"\"\"\u001b[0m\u001b[0;34m\u001b[0m\u001b[0;34m\u001b[0m\u001b[0m\n\u001b[0;32m---> 55\u001b[0;31m         \u001b[0;32mreturn\u001b[0m \u001b[0mself\u001b[0m\u001b[0;34m.\u001b[0m\u001b[0mcoords\u001b[0m\u001b[0;34m[\u001b[0m\u001b[0;36m0\u001b[0m\u001b[0;34m]\u001b[0m\u001b[0;34m[\u001b[0m\u001b[0;36m0\u001b[0m\u001b[0;34m]\u001b[0m\u001b[0;34m\u001b[0m\u001b[0;34m\u001b[0m\u001b[0m\n\u001b[0m\u001b[1;32m     56\u001b[0m \u001b[0;34m\u001b[0m\u001b[0m\n\u001b[1;32m     57\u001b[0m     \u001b[0;34m@\u001b[0m\u001b[0mproperty\u001b[0m\u001b[0;34m\u001b[0m\u001b[0;34m\u001b[0m\u001b[0m\n",
      "\u001b[0;32m/opt/anaconda3/envs/myenv/lib/python3.7/site-packages/shapely/coords.py\u001b[0m in \u001b[0;36m__getitem__\u001b[0;34m(self, key)\u001b[0m\n\u001b[1;32m     73\u001b[0m         \u001b[0mdz\u001b[0m \u001b[0;34m=\u001b[0m \u001b[0mc_double\u001b[0m\u001b[0;34m(\u001b[0m\u001b[0;34m)\u001b[0m\u001b[0;34m\u001b[0m\u001b[0;34m\u001b[0m\u001b[0m\n\u001b[1;32m     74\u001b[0m         \u001b[0mm\u001b[0m \u001b[0;34m=\u001b[0m \u001b[0mself\u001b[0m\u001b[0;34m.\u001b[0m\u001b[0m__len__\u001b[0m\u001b[0;34m(\u001b[0m\u001b[0;34m)\u001b[0m\u001b[0;34m\u001b[0m\u001b[0;34m\u001b[0m\u001b[0m\n\u001b[0;32m---> 75\u001b[0;31m         \u001b[0mhas_z\u001b[0m \u001b[0;34m=\u001b[0m \u001b[0mself\u001b[0m\u001b[0;34m.\u001b[0m\u001b[0m_ndim\u001b[0m \u001b[0;34m==\u001b[0m \u001b[0;36m3\u001b[0m\u001b[0;34m\u001b[0m\u001b[0;34m\u001b[0m\u001b[0m\n\u001b[0m\u001b[1;32m     76\u001b[0m         \u001b[0;32mif\u001b[0m \u001b[0misinstance\u001b[0m\u001b[0;34m(\u001b[0m\u001b[0mkey\u001b[0m\u001b[0;34m,\u001b[0m \u001b[0mint\u001b[0m\u001b[0;34m)\u001b[0m\u001b[0;34m:\u001b[0m\u001b[0;34m\u001b[0m\u001b[0;34m\u001b[0m\u001b[0m\n\u001b[1;32m     77\u001b[0m             \u001b[0;32mif\u001b[0m \u001b[0mkey\u001b[0m \u001b[0;34m+\u001b[0m \u001b[0mm\u001b[0m \u001b[0;34m<\u001b[0m \u001b[0;36m0\u001b[0m \u001b[0;32mor\u001b[0m \u001b[0mkey\u001b[0m \u001b[0;34m>=\u001b[0m \u001b[0mm\u001b[0m\u001b[0;34m:\u001b[0m\u001b[0;34m\u001b[0m\u001b[0;34m\u001b[0m\u001b[0m\n",
      "\u001b[0;31mKeyboardInterrupt\u001b[0m: "
     ]
    },
    {
     "data": {
      "image/png": "[encoded data removed]",
      "text/plain": [
       "<Figure size 432x288 with 1 Axes>"
      ]
     },
     "metadata": {
      "needs_background": "light"
     },
     "output_type": "display_data"
    }
   ],
   "source": [
    "Zaehlungen.plot()\n",
    "Zaehlungen.plot.title('Zae')"
   ]
  },
  {
   "cell_type": "code",
   "execution_count": 61,
   "metadata": {},
   "outputs": [
    {
     "data": {
      "text/plain": [
       "(array([2675000., 2677500., 2680000., 2682500., 2685000., 2687500.,\n",
       "        2690000., 2692500.]),\n",
       " [Text(2675000.0, 0, '2.6750'),\n",
       "  Text(2677500.0, 0, '2.6775'),\n",
       "  Text(2680000.0, 0, '2.6800'),\n",
       "  Text(2682500.0, 0, '2.6825'),\n",
       "  Text(2685000.0, 0, '2.6850'),\n",
       "  Text(2687500.0, 0, '2.6875'),\n",
       "  Text(2690000.0, 0, '2.6900'),\n",
       "  Text(2692500.0, 0, '2.6925')])"
      ]
     },
     "execution_count": 61,
     "metadata": {},
     "output_type": "execute_result"
    },
    {
     "data": {
      "text/plain": [
       "<Figure size 432x288 with 0 Axes>"
      ]
     },
     "metadata": {},
     "output_type": "display_data"
    },
    {
     "data": {
      "image/png": "[encoded data removed]",
      "text/plain": [
       "<Figure size 432x288 with 1 Axes>"
      ]
     },
     "metadata": {
      "needs_background": "light"
     },
     "output_type": "display_data"
    }
   ],
   "source": [
    "\n",
    "fig = plt.figure()\n",
    "ax = VeloWege.plot(color = 'red', zorder=2)\n",
    "Zaehlungen.plot(ax=ax, color = 'black', markersize=5, zorder=1)\n",
    "plt.title('Bicylce lanes in Zurich',fontsize=16)\n",
    "plt.xlabel('x-coordinates',fontsize=18)\n",
    "plt.ylabel('y-coordinates',fontsize=18) \n",
    "plt.xticks(fontsize=10) \n"
   ]
  },
  {
   "cell_type": "code",
   "execution_count": 47,
   "metadata": {},
   "outputs": [
    {
     "data": {
      "text/plain": [
       "<Figure size 432x288 with 0 Axes>"
      ]
     },
     "metadata": {},
     "output_type": "display_data"
    },
    {
     "data": {
      "image/png": "[encoded data removed]",
      "text/plain": [
       "<Figure size 432x288 with 1 Axes>"
      ]
     },
     "metadata": {
      "needs_background": "light"
     },
     "output_type": "display_data"
    }
   ],
   "source": [
    "fig = plt.figure()\n",
    "Unfaelle.plot()\n",
    "plt.title('Registered Accidents in Zurich',fontsize=16)\n",
    "plt.xlabel('x-coordinates',fontsize=16)\n",
    "plt.ylabel('y-coordinates',fontsize=16)\n",
    "plt.savefig('Unfaelle.png')"
   ]
  },
  {
   "cell_type": "code",
   "execution_count": 63,
   "metadata": {},
   "outputs": [
    {
     "data": {
      "text/html": [
       "<div>\n",
       "<style scoped>\n",
       "    .dataframe tbody tr th:only-of-type {\n",
       "        vertical-align: middle;\n",
       "    }\n",
       "\n",
       "    .dataframe tbody tr th {\n",
       "        vertical-align: top;\n",
       "    }\n",
       "\n",
       "    .dataframe thead th {\n",
       "        text-align: right;\n",
       "    }\n",
       "</style>\n",
       "<table border=\"1\" class=\"dataframe\">\n",
       "  <thead>\n",
       "    <tr style=\"text-align: right;\">\n",
       "      <th></th>\n",
       "      <th>AccidentLocation_CHLV95_E</th>\n",
       "      <th>AccidentLocation_CHLV95_N</th>\n",
       "      <th>MunicipalityCode</th>\n",
       "      <th>AccidentYear</th>\n",
       "      <th>AccidentMonth</th>\n",
       "      <th>AccidentHour</th>\n",
       "    </tr>\n",
       "  </thead>\n",
       "  <tbody>\n",
       "    <tr>\n",
       "      <th>count</th>\n",
       "      <td>5.344600e+04</td>\n",
       "      <td>5.344600e+04</td>\n",
       "      <td>53446.0</td>\n",
       "      <td>53446.000000</td>\n",
       "      <td>53446.000000</td>\n",
       "      <td>53442.000000</td>\n",
       "    </tr>\n",
       "    <tr>\n",
       "      <th>mean</th>\n",
       "      <td>2.682515e+06</td>\n",
       "      <td>1.248599e+06</td>\n",
       "      <td>261.0</td>\n",
       "      <td>2016.529039</td>\n",
       "      <td>6.713748</td>\n",
       "      <td>13.325942</td>\n",
       "    </tr>\n",
       "    <tr>\n",
       "      <th>std</th>\n",
       "      <td>1.784992e+03</td>\n",
       "      <td>2.320076e+03</td>\n",
       "      <td>0.0</td>\n",
       "      <td>3.023055</td>\n",
       "      <td>3.326783</td>\n",
       "      <td>5.174700</td>\n",
       "    </tr>\n",
       "    <tr>\n",
       "      <th>min</th>\n",
       "      <td>2.677442e+06</td>\n",
       "      <td>1.241844e+06</td>\n",
       "      <td>261.0</td>\n",
       "      <td>2011.000000</td>\n",
       "      <td>1.000000</td>\n",
       "      <td>0.000000</td>\n",
       "    </tr>\n",
       "    <tr>\n",
       "      <th>25%</th>\n",
       "      <td>2.681476e+06</td>\n",
       "      <td>1.247053e+06</td>\n",
       "      <td>261.0</td>\n",
       "      <td>2014.000000</td>\n",
       "      <td>4.000000</td>\n",
       "      <td>10.000000</td>\n",
       "    </tr>\n",
       "    <tr>\n",
       "      <th>50%</th>\n",
       "      <td>2.682650e+06</td>\n",
       "      <td>1.248142e+06</td>\n",
       "      <td>261.0</td>\n",
       "      <td>2017.000000</td>\n",
       "      <td>7.000000</td>\n",
       "      <td>14.000000</td>\n",
       "    </tr>\n",
       "    <tr>\n",
       "      <th>75%</th>\n",
       "      <td>2.683625e+06</td>\n",
       "      <td>1.250176e+06</td>\n",
       "      <td>261.0</td>\n",
       "      <td>2019.000000</td>\n",
       "      <td>10.000000</td>\n",
       "      <td>17.000000</td>\n",
       "    </tr>\n",
       "    <tr>\n",
       "      <th>max</th>\n",
       "      <td>2.689354e+06</td>\n",
       "      <td>1.254133e+06</td>\n",
       "      <td>261.0</td>\n",
       "      <td>2021.000000</td>\n",
       "      <td>12.000000</td>\n",
       "      <td>23.000000</td>\n",
       "    </tr>\n",
       "  </tbody>\n",
       "</table>\n",
       "</div>"
      ],
      "text/plain": [
       "       AccidentLocation_CHLV95_E  AccidentLocation_CHLV95_N  MunicipalityCode  \\\n",
       "count               5.344600e+04               5.344600e+04           53446.0   \n",
       "mean                2.682515e+06               1.248599e+06             261.0   \n",
       "std                 1.784992e+03               2.320076e+03               0.0   \n",
       "min                 2.677442e+06               1.241844e+06             261.0   \n",
       "25%                 2.681476e+06               1.247053e+06             261.0   \n",
       "50%                 2.682650e+06               1.248142e+06             261.0   \n",
       "75%                 2.683625e+06               1.250176e+06             261.0   \n",
       "max                 2.689354e+06               1.254133e+06             261.0   \n",
       "\n",
       "       AccidentYear  AccidentMonth  AccidentHour  \n",
       "count  53446.000000   53446.000000  53442.000000  \n",
       "mean    2016.529039       6.713748     13.325942  \n",
       "std        3.023055       3.326783      5.174700  \n",
       "min     2011.000000       1.000000      0.000000  \n",
       "25%     2014.000000       4.000000     10.000000  \n",
       "50%     2017.000000       7.000000     14.000000  \n",
       "75%     2019.000000      10.000000     17.000000  \n",
       "max     2021.000000      12.000000     23.000000  "
      ]
     },
     "execution_count": 63,
     "metadata": {},
     "output_type": "execute_result"
    }
   ],
   "source": [
    "Unfaelle.describe()"
   ]
  },
  {
   "cell_type": "code",
   "execution_count": 72,
   "metadata": {},
   "outputs": [
    {
     "name": "stdout",
     "output_type": "stream",
     "text": [
      "<class 'geopandas.geodataframe.GeoDataFrame'>\n",
      "RangeIndex: 1178570 entries, 0 to 1178569\n",
      "Data columns (total 10 columns):\n",
      " #   Column       Non-Null Count    Dtype   \n",
      "---  ------       --------------    -----   \n",
      " 0   FK_ZAEHLER   1178570 non-null  object  \n",
      " 1   FK_STANDORT  1178570 non-null  int64   \n",
      " 2   DATUM        1178570 non-null  object  \n",
      " 3   VELO_IN      704810 non-null   float64 \n",
      " 4   VELO_OUT     600754 non-null   float64 \n",
      " 5   FUSS_IN      473760 non-null   float64 \n",
      " 6   FUSS_OUT     473760 non-null   float64 \n",
      " 7   OST          1178570 non-null  int64   \n",
      " 8   NORD         1178570 non-null  int64   \n",
      " 9   geometry     1178570 non-null  geometry\n",
      "dtypes: float64(4), geometry(1), int64(3), object(2)\n",
      "memory usage: 89.9+ MB\n"
     ]
    },
    {
     "data": {
      "text/html": [
       "<div>\n",
       "<style scoped>\n",
       "    .dataframe tbody tr th:only-of-type {\n",
       "        vertical-align: middle;\n",
       "    }\n",
       "\n",
       "    .dataframe tbody tr th {\n",
       "        vertical-align: top;\n",
       "    }\n",
       "\n",
       "    .dataframe thead th {\n",
       "        text-align: right;\n",
       "    }\n",
       "</style>\n",
       "<table border=\"1\" class=\"dataframe\">\n",
       "  <thead>\n",
       "    <tr style=\"text-align: right;\">\n",
       "      <th></th>\n",
       "      <th>FK_STANDORT</th>\n",
       "      <th>VELO_IN</th>\n",
       "      <th>VELO_OUT</th>\n",
       "      <th>FUSS_IN</th>\n",
       "      <th>FUSS_OUT</th>\n",
       "      <th>OST</th>\n",
       "      <th>NORD</th>\n",
       "    </tr>\n",
       "  </thead>\n",
       "  <tbody>\n",
       "    <tr>\n",
       "      <th>count</th>\n",
       "      <td>1.178570e+06</td>\n",
       "      <td>704810.000000</td>\n",
       "      <td>600754.000000</td>\n",
       "      <td>473760.000000</td>\n",
       "      <td>473760.000000</td>\n",
       "      <td>1.178570e+06</td>\n",
       "      <td>1.178570e+06</td>\n",
       "    </tr>\n",
       "    <tr>\n",
       "      <th>mean</th>\n",
       "      <td>2.540828e+03</td>\n",
       "      <td>8.158380</td>\n",
       "      <td>5.600617</td>\n",
       "      <td>14.910385</td>\n",
       "      <td>11.850203</td>\n",
       "      <td>2.682510e+06</td>\n",
       "      <td>1.248716e+06</td>\n",
       "    </tr>\n",
       "    <tr>\n",
       "      <th>std</th>\n",
       "      <td>1.135860e+03</td>\n",
       "      <td>12.287068</td>\n",
       "      <td>7.919064</td>\n",
       "      <td>23.198232</td>\n",
       "      <td>18.586651</td>\n",
       "      <td>1.146152e+03</td>\n",
       "      <td>2.073100e+03</td>\n",
       "    </tr>\n",
       "    <tr>\n",
       "      <th>min</th>\n",
       "      <td>2.000000e+01</td>\n",
       "      <td>0.000000</td>\n",
       "      <td>0.000000</td>\n",
       "      <td>0.000000</td>\n",
       "      <td>0.000000</td>\n",
       "      <td>2.679339e+06</td>\n",
       "      <td>1.244140e+06</td>\n",
       "    </tr>\n",
       "    <tr>\n",
       "      <th>25%</th>\n",
       "      <td>1.692000e+03</td>\n",
       "      <td>0.000000</td>\n",
       "      <td>0.000000</td>\n",
       "      <td>1.000000</td>\n",
       "      <td>0.000000</td>\n",
       "      <td>2.682171e+06</td>\n",
       "      <td>1.247199e+06</td>\n",
       "    </tr>\n",
       "    <tr>\n",
       "      <th>50%</th>\n",
       "      <td>2.989000e+03</td>\n",
       "      <td>4.000000</td>\n",
       "      <td>3.000000</td>\n",
       "      <td>6.000000</td>\n",
       "      <td>4.000000</td>\n",
       "      <td>2.682756e+06</td>\n",
       "      <td>1.248451e+06</td>\n",
       "    </tr>\n",
       "    <tr>\n",
       "      <th>75%</th>\n",
       "      <td>3.012000e+03</td>\n",
       "      <td>11.000000</td>\n",
       "      <td>8.000000</td>\n",
       "      <td>19.000000</td>\n",
       "      <td>16.000000</td>\n",
       "      <td>2.683437e+06</td>\n",
       "      <td>1.250304e+06</td>\n",
       "    </tr>\n",
       "    <tr>\n",
       "      <th>max</th>\n",
       "      <td>4.243000e+03</td>\n",
       "      <td>384.000000</td>\n",
       "      <td>274.000000</td>\n",
       "      <td>575.000000</td>\n",
       "      <td>336.000000</td>\n",
       "      <td>2.684578e+06</td>\n",
       "      <td>1.253280e+06</td>\n",
       "    </tr>\n",
       "  </tbody>\n",
       "</table>\n",
       "</div>"
      ],
      "text/plain": [
       "        FK_STANDORT        VELO_IN       VELO_OUT        FUSS_IN  \\\n",
       "count  1.178570e+06  704810.000000  600754.000000  473760.000000   \n",
       "mean   2.540828e+03       8.158380       5.600617      14.910385   \n",
       "std    1.135860e+03      12.287068       7.919064      23.198232   \n",
       "min    2.000000e+01       0.000000       0.000000       0.000000   \n",
       "25%    1.692000e+03       0.000000       0.000000       1.000000   \n",
       "50%    2.989000e+03       4.000000       3.000000       6.000000   \n",
       "75%    3.012000e+03      11.000000       8.000000      19.000000   \n",
       "max    4.243000e+03     384.000000     274.000000     575.000000   \n",
       "\n",
       "            FUSS_OUT           OST          NORD  \n",
       "count  473760.000000  1.178570e+06  1.178570e+06  \n",
       "mean       11.850203  2.682510e+06  1.248716e+06  \n",
       "std        18.586651  1.146152e+03  2.073100e+03  \n",
       "min         0.000000  2.679339e+06  1.244140e+06  \n",
       "25%         0.000000  2.682171e+06  1.247199e+06  \n",
       "50%         4.000000  2.682756e+06  1.248451e+06  \n",
       "75%        16.000000  2.683437e+06  1.250304e+06  \n",
       "max       336.000000  2.684578e+06  1.253280e+06  "
      ]
     },
     "execution_count": 72,
     "metadata": {},
     "output_type": "execute_result"
    }
   ],
   "source": [
    "Zaehlungen.info()\n",
    "Zaehlungen.describe()"
   ]
  },
  {
   "cell_type": "code",
   "execution_count": 74,
   "metadata": {},
   "outputs": [
    {
     "data": {
      "text/html": [
       "<div>\n",
       "<style scoped>\n",
       "    .dataframe tbody tr th:only-of-type {\n",
       "        vertical-align: middle;\n",
       "    }\n",
       "\n",
       "    .dataframe tbody tr th {\n",
       "        vertical-align: top;\n",
       "    }\n",
       "\n",
       "    .dataframe thead th {\n",
       "        text-align: right;\n",
       "    }\n",
       "</style>\n",
       "<table border=\"1\" class=\"dataframe\">\n",
       "  <thead>\n",
       "    <tr style=\"text-align: right;\">\n",
       "      <th></th>\n",
       "      <th>FK_STANDORT</th>\n",
       "      <th>geometry</th>\n",
       "    </tr>\n",
       "  </thead>\n",
       "  <tbody>\n",
       "    <tr>\n",
       "      <th>0</th>\n",
       "      <td>1357</td>\n",
       "      <td>POINT (2682973.000 1246329.000)</td>\n",
       "    </tr>\n",
       "    <tr>\n",
       "      <th>1</th>\n",
       "      <td>3927</td>\n",
       "      <td>POINT (2682873.000 1245891.000)</td>\n",
       "    </tr>\n",
       "    <tr>\n",
       "      <th>2</th>\n",
       "      <td>1358</td>\n",
       "      <td>POINT (2683557.000 1251702.000)</td>\n",
       "    </tr>\n",
       "    <tr>\n",
       "      <th>3</th>\n",
       "      <td>3011</td>\n",
       "      <td>POINT (2682978.000 1248744.000)</td>\n",
       "    </tr>\n",
       "    <tr>\n",
       "      <th>4</th>\n",
       "      <td>3279</td>\n",
       "      <td>POINT (2683437.000 1247199.000)</td>\n",
       "    </tr>\n",
       "    <tr>\n",
       "      <th>...</th>\n",
       "      <td>...</td>\n",
       "      <td>...</td>\n",
       "    </tr>\n",
       "    <tr>\n",
       "      <th>1178565</th>\n",
       "      <td>2991</td>\n",
       "      <td>POINT (2682756.000 1247323.000)</td>\n",
       "    </tr>\n",
       "    <tr>\n",
       "      <th>1178566</th>\n",
       "      <td>2993</td>\n",
       "      <td>POINT (2683573.000 1248545.000)</td>\n",
       "    </tr>\n",
       "    <tr>\n",
       "      <th>1178567</th>\n",
       "      <td>60</td>\n",
       "      <td>POINT (2682731.000 1247708.000)</td>\n",
       "    </tr>\n",
       "    <tr>\n",
       "      <th>1178568</th>\n",
       "      <td>3020</td>\n",
       "      <td>POINT (2680439.000 1249930.000)</td>\n",
       "    </tr>\n",
       "    <tr>\n",
       "      <th>1178569</th>\n",
       "      <td>2979</td>\n",
       "      <td>POINT (2681858.000 1251991.000)</td>\n",
       "    </tr>\n",
       "  </tbody>\n",
       "</table>\n",
       "<p>1178570 rows × 2 columns</p>\n",
       "</div>"
      ],
      "text/plain": [
       "         FK_STANDORT                         geometry\n",
       "0               1357  POINT (2682973.000 1246329.000)\n",
       "1               3927  POINT (2682873.000 1245891.000)\n",
       "2               1358  POINT (2683557.000 1251702.000)\n",
       "3               3011  POINT (2682978.000 1248744.000)\n",
       "4               3279  POINT (2683437.000 1247199.000)\n",
       "...              ...                              ...\n",
       "1178565         2991  POINT (2682756.000 1247323.000)\n",
       "1178566         2993  POINT (2683573.000 1248545.000)\n",
       "1178567           60  POINT (2682731.000 1247708.000)\n",
       "1178568         3020  POINT (2680439.000 1249930.000)\n",
       "1178569         2979  POINT (2681858.000 1251991.000)\n",
       "\n",
       "[1178570 rows x 2 columns]"
      ]
     },
     "execution_count": 74,
     "metadata": {},
     "output_type": "execute_result"
    }
   ],
   "source": [
    "#separating gemoetry with stadort as groupby does not work for geometry\n",
    "geom = Zaehlungen[['FK_STANDORT', 'geometry']].copy()\n",
    "\n",
    "geom"
   ]
  },
  {
   "cell_type": "code",
   "execution_count": 35,
   "metadata": {},
   "outputs": [
    {
     "ename": "KeyError",
     "evalue": "\"['FUSS_IN' 'FUSS_OUT'] not found in axis\"",
     "output_type": "error",
     "traceback": [
      "\u001b[0;31m---------------------------------------------------------------------------\u001b[0m",
      "\u001b[0;31mKeyError\u001b[0m                                  Traceback (most recent call last)",
      "\u001b[0;32m/var/folders/xw/nkrcq2b967l17kzmtv_v3hf40000gn/T/ipykernel_731/3389745634.py\u001b[0m in \u001b[0;36m<module>\u001b[0;34m\u001b[0m\n\u001b[1;32m      1\u001b[0m \u001b[0;31m#Remove unimportant data as well as NaN's\u001b[0m\u001b[0;34m\u001b[0m\u001b[0;34m\u001b[0m\u001b[0;34m\u001b[0m\u001b[0m\n\u001b[1;32m      2\u001b[0m \u001b[0mDeleteList\u001b[0m\u001b[0;34m=\u001b[0m\u001b[0;34m[\u001b[0m\u001b[0;34m'FUSS_IN'\u001b[0m\u001b[0;34m,\u001b[0m\u001b[0;34m'FUSS_OUT'\u001b[0m\u001b[0;34m]\u001b[0m\u001b[0;34m\u001b[0m\u001b[0;34m\u001b[0m\u001b[0m\n\u001b[0;32m----> 3\u001b[0;31m \u001b[0mZaehlungen\u001b[0m \u001b[0;34m=\u001b[0m \u001b[0mZaehlungen\u001b[0m\u001b[0;34m.\u001b[0m\u001b[0mdrop\u001b[0m\u001b[0;34m(\u001b[0m\u001b[0mDeleteList\u001b[0m\u001b[0;34m,\u001b[0m \u001b[0maxis\u001b[0m \u001b[0;34m=\u001b[0m \u001b[0;36m1\u001b[0m\u001b[0;34m)\u001b[0m\u001b[0;34m\u001b[0m\u001b[0;34m\u001b[0m\u001b[0m\n\u001b[0m\u001b[1;32m      4\u001b[0m \u001b[0mZaehlungen\u001b[0m \u001b[0;34m=\u001b[0m \u001b[0mZaehlungen\u001b[0m\u001b[0;34m.\u001b[0m\u001b[0mdropna\u001b[0m\u001b[0;34m(\u001b[0m\u001b[0maxis\u001b[0m\u001b[0;34m=\u001b[0m\u001b[0;36m0\u001b[0m\u001b[0;34m,\u001b[0m \u001b[0mhow\u001b[0m\u001b[0;34m=\u001b[0m\u001b[0;34m'any'\u001b[0m\u001b[0;34m,\u001b[0m \u001b[0minplace\u001b[0m\u001b[0;34m=\u001b[0m\u001b[0;32mFalse\u001b[0m\u001b[0;34m)\u001b[0m\u001b[0;34m\u001b[0m\u001b[0;34m\u001b[0m\u001b[0m\n",
      "\u001b[0;32m/opt/anaconda3/envs/myenv/lib/python3.7/site-packages/pandas/util/_decorators.py\u001b[0m in \u001b[0;36mwrapper\u001b[0;34m(*args, **kwargs)\u001b[0m\n\u001b[1;32m    309\u001b[0m                     \u001b[0mstacklevel\u001b[0m\u001b[0;34m=\u001b[0m\u001b[0mstacklevel\u001b[0m\u001b[0;34m,\u001b[0m\u001b[0;34m\u001b[0m\u001b[0;34m\u001b[0m\u001b[0m\n\u001b[1;32m    310\u001b[0m                 )\n\u001b[0;32m--> 311\u001b[0;31m             \u001b[0;32mreturn\u001b[0m \u001b[0mfunc\u001b[0m\u001b[0;34m(\u001b[0m\u001b[0;34m*\u001b[0m\u001b[0margs\u001b[0m\u001b[0;34m,\u001b[0m \u001b[0;34m**\u001b[0m\u001b[0mkwargs\u001b[0m\u001b[0;34m)\u001b[0m\u001b[0;34m\u001b[0m\u001b[0;34m\u001b[0m\u001b[0m\n\u001b[0m\u001b[1;32m    312\u001b[0m \u001b[0;34m\u001b[0m\u001b[0m\n\u001b[1;32m    313\u001b[0m         \u001b[0;32mreturn\u001b[0m \u001b[0mwrapper\u001b[0m\u001b[0;34m\u001b[0m\u001b[0;34m\u001b[0m\u001b[0m\n",
      "\u001b[0;32m/opt/anaconda3/envs/myenv/lib/python3.7/site-packages/pandas/core/frame.py\u001b[0m in \u001b[0;36mdrop\u001b[0;34m(self, labels, axis, index, columns, level, inplace, errors)\u001b[0m\n\u001b[1;32m   4911\u001b[0m             \u001b[0mlevel\u001b[0m\u001b[0;34m=\u001b[0m\u001b[0mlevel\u001b[0m\u001b[0;34m,\u001b[0m\u001b[0;34m\u001b[0m\u001b[0;34m\u001b[0m\u001b[0m\n\u001b[1;32m   4912\u001b[0m             \u001b[0minplace\u001b[0m\u001b[0;34m=\u001b[0m\u001b[0minplace\u001b[0m\u001b[0;34m,\u001b[0m\u001b[0;34m\u001b[0m\u001b[0;34m\u001b[0m\u001b[0m\n\u001b[0;32m-> 4913\u001b[0;31m             \u001b[0merrors\u001b[0m\u001b[0;34m=\u001b[0m\u001b[0merrors\u001b[0m\u001b[0;34m,\u001b[0m\u001b[0;34m\u001b[0m\u001b[0;34m\u001b[0m\u001b[0m\n\u001b[0m\u001b[1;32m   4914\u001b[0m         )\n\u001b[1;32m   4915\u001b[0m \u001b[0;34m\u001b[0m\u001b[0m\n",
      "\u001b[0;32m/opt/anaconda3/envs/myenv/lib/python3.7/site-packages/pandas/core/generic.py\u001b[0m in \u001b[0;36mdrop\u001b[0;34m(self, labels, axis, index, columns, level, inplace, errors)\u001b[0m\n\u001b[1;32m   4148\u001b[0m         \u001b[0;32mfor\u001b[0m \u001b[0maxis\u001b[0m\u001b[0;34m,\u001b[0m \u001b[0mlabels\u001b[0m \u001b[0;32min\u001b[0m \u001b[0maxes\u001b[0m\u001b[0;34m.\u001b[0m\u001b[0mitems\u001b[0m\u001b[0;34m(\u001b[0m\u001b[0;34m)\u001b[0m\u001b[0;34m:\u001b[0m\u001b[0;34m\u001b[0m\u001b[0;34m\u001b[0m\u001b[0m\n\u001b[1;32m   4149\u001b[0m             \u001b[0;32mif\u001b[0m \u001b[0mlabels\u001b[0m \u001b[0;32mis\u001b[0m \u001b[0;32mnot\u001b[0m \u001b[0;32mNone\u001b[0m\u001b[0;34m:\u001b[0m\u001b[0;34m\u001b[0m\u001b[0;34m\u001b[0m\u001b[0m\n\u001b[0;32m-> 4150\u001b[0;31m                 \u001b[0mobj\u001b[0m \u001b[0;34m=\u001b[0m \u001b[0mobj\u001b[0m\u001b[0;34m.\u001b[0m\u001b[0m_drop_axis\u001b[0m\u001b[0;34m(\u001b[0m\u001b[0mlabels\u001b[0m\u001b[0;34m,\u001b[0m \u001b[0maxis\u001b[0m\u001b[0;34m,\u001b[0m \u001b[0mlevel\u001b[0m\u001b[0;34m=\u001b[0m\u001b[0mlevel\u001b[0m\u001b[0;34m,\u001b[0m \u001b[0merrors\u001b[0m\u001b[0;34m=\u001b[0m\u001b[0merrors\u001b[0m\u001b[0;34m)\u001b[0m\u001b[0;34m\u001b[0m\u001b[0;34m\u001b[0m\u001b[0m\n\u001b[0m\u001b[1;32m   4151\u001b[0m \u001b[0;34m\u001b[0m\u001b[0m\n\u001b[1;32m   4152\u001b[0m         \u001b[0;32mif\u001b[0m \u001b[0minplace\u001b[0m\u001b[0;34m:\u001b[0m\u001b[0;34m\u001b[0m\u001b[0;34m\u001b[0m\u001b[0m\n",
      "\u001b[0;32m/opt/anaconda3/envs/myenv/lib/python3.7/site-packages/pandas/core/generic.py\u001b[0m in \u001b[0;36m_drop_axis\u001b[0;34m(self, labels, axis, level, errors)\u001b[0m\n\u001b[1;32m   4183\u001b[0m                 \u001b[0mnew_axis\u001b[0m \u001b[0;34m=\u001b[0m \u001b[0maxis\u001b[0m\u001b[0;34m.\u001b[0m\u001b[0mdrop\u001b[0m\u001b[0;34m(\u001b[0m\u001b[0mlabels\u001b[0m\u001b[0;34m,\u001b[0m \u001b[0mlevel\u001b[0m\u001b[0;34m=\u001b[0m\u001b[0mlevel\u001b[0m\u001b[0;34m,\u001b[0m \u001b[0merrors\u001b[0m\u001b[0;34m=\u001b[0m\u001b[0merrors\u001b[0m\u001b[0;34m)\u001b[0m\u001b[0;34m\u001b[0m\u001b[0;34m\u001b[0m\u001b[0m\n\u001b[1;32m   4184\u001b[0m             \u001b[0;32melse\u001b[0m\u001b[0;34m:\u001b[0m\u001b[0;34m\u001b[0m\u001b[0;34m\u001b[0m\u001b[0m\n\u001b[0;32m-> 4185\u001b[0;31m                 \u001b[0mnew_axis\u001b[0m \u001b[0;34m=\u001b[0m \u001b[0maxis\u001b[0m\u001b[0;34m.\u001b[0m\u001b[0mdrop\u001b[0m\u001b[0;34m(\u001b[0m\u001b[0mlabels\u001b[0m\u001b[0;34m,\u001b[0m \u001b[0merrors\u001b[0m\u001b[0;34m=\u001b[0m\u001b[0merrors\u001b[0m\u001b[0;34m)\u001b[0m\u001b[0;34m\u001b[0m\u001b[0;34m\u001b[0m\u001b[0m\n\u001b[0m\u001b[1;32m   4186\u001b[0m             \u001b[0mresult\u001b[0m \u001b[0;34m=\u001b[0m \u001b[0mself\u001b[0m\u001b[0;34m.\u001b[0m\u001b[0mreindex\u001b[0m\u001b[0;34m(\u001b[0m\u001b[0;34m**\u001b[0m\u001b[0;34m{\u001b[0m\u001b[0maxis_name\u001b[0m\u001b[0;34m:\u001b[0m \u001b[0mnew_axis\u001b[0m\u001b[0;34m}\u001b[0m\u001b[0;34m)\u001b[0m\u001b[0;34m\u001b[0m\u001b[0;34m\u001b[0m\u001b[0m\n\u001b[1;32m   4187\u001b[0m \u001b[0;34m\u001b[0m\u001b[0m\n",
      "\u001b[0;32m/opt/anaconda3/envs/myenv/lib/python3.7/site-packages/pandas/core/indexes/base.py\u001b[0m in \u001b[0;36mdrop\u001b[0;34m(self, labels, errors)\u001b[0m\n\u001b[1;32m   6015\u001b[0m         \u001b[0;32mif\u001b[0m \u001b[0mmask\u001b[0m\u001b[0;34m.\u001b[0m\u001b[0many\u001b[0m\u001b[0;34m(\u001b[0m\u001b[0;34m)\u001b[0m\u001b[0;34m:\u001b[0m\u001b[0;34m\u001b[0m\u001b[0;34m\u001b[0m\u001b[0m\n\u001b[1;32m   6016\u001b[0m             \u001b[0;32mif\u001b[0m \u001b[0merrors\u001b[0m \u001b[0;34m!=\u001b[0m \u001b[0;34m\"ignore\"\u001b[0m\u001b[0;34m:\u001b[0m\u001b[0;34m\u001b[0m\u001b[0;34m\u001b[0m\u001b[0m\n\u001b[0;32m-> 6017\u001b[0;31m                 \u001b[0;32mraise\u001b[0m \u001b[0mKeyError\u001b[0m\u001b[0;34m(\u001b[0m\u001b[0;34mf\"{labels[mask]} not found in axis\"\u001b[0m\u001b[0;34m)\u001b[0m\u001b[0;34m\u001b[0m\u001b[0;34m\u001b[0m\u001b[0m\n\u001b[0m\u001b[1;32m   6018\u001b[0m             \u001b[0mindexer\u001b[0m \u001b[0;34m=\u001b[0m \u001b[0mindexer\u001b[0m\u001b[0;34m[\u001b[0m\u001b[0;34m~\u001b[0m\u001b[0mmask\u001b[0m\u001b[0;34m]\u001b[0m\u001b[0;34m\u001b[0m\u001b[0;34m\u001b[0m\u001b[0m\n\u001b[1;32m   6019\u001b[0m         \u001b[0;32mreturn\u001b[0m \u001b[0mself\u001b[0m\u001b[0;34m.\u001b[0m\u001b[0mdelete\u001b[0m\u001b[0;34m(\u001b[0m\u001b[0mindexer\u001b[0m\u001b[0;34m)\u001b[0m\u001b[0;34m\u001b[0m\u001b[0;34m\u001b[0m\u001b[0m\n",
      "\u001b[0;31mKeyError\u001b[0m: \"['FUSS_IN' 'FUSS_OUT'] not found in axis\""
     ]
    }
   ],
   "source": [
    "#Remove unimportant data as well as NaN's\n",
    "DeleteList=['FUSS_IN','FUSS_OUT']\n",
    "Zaehlungen = Zaehlungen.drop(DeleteList, axis = 1)\n",
    "Zaehlungen = Zaehlungen.dropna(axis=0, how='any', inplace=False)"
   ]
  },
  {
   "cell_type": "code",
   "execution_count": 36,
   "metadata": {},
   "outputs": [
    {
     "data": {
      "text/html": [
       "<div>\n",
       "<style scoped>\n",
       "    .dataframe tbody tr th:only-of-type {\n",
       "        vertical-align: middle;\n",
       "    }\n",
       "\n",
       "    .dataframe tbody tr th {\n",
       "        vertical-align: top;\n",
       "    }\n",
       "\n",
       "    .dataframe thead th {\n",
       "        text-align: right;\n",
       "    }\n",
       "</style>\n",
       "<table border=\"1\" class=\"dataframe\">\n",
       "  <thead>\n",
       "    <tr style=\"text-align: right;\">\n",
       "      <th></th>\n",
       "      <th>FK_ZAEHLER</th>\n",
       "      <th>FK_STANDORT</th>\n",
       "      <th>DATUM</th>\n",
       "      <th>VELO_IN</th>\n",
       "      <th>VELO_OUT</th>\n",
       "      <th>OST</th>\n",
       "      <th>NORD</th>\n",
       "      <th>geometry</th>\n",
       "    </tr>\n",
       "  </thead>\n",
       "  <tbody>\n",
       "    <tr>\n",
       "      <th>1</th>\n",
       "      <td>ECO09113499</td>\n",
       "      <td>3927</td>\n",
       "      <td>2021-01-01T00:00</td>\n",
       "      <td>0.0</td>\n",
       "      <td>3.0</td>\n",
       "      <td>2682873</td>\n",
       "      <td>1245891</td>\n",
       "      <td>POINT (2682873.000 1245891.000)</td>\n",
       "    </tr>\n",
       "    <tr>\n",
       "      <th>5</th>\n",
       "      <td>Y2H19111476</td>\n",
       "      <td>2991</td>\n",
       "      <td>2021-01-01T00:00</td>\n",
       "      <td>0.0</td>\n",
       "      <td>0.0</td>\n",
       "      <td>2682756</td>\n",
       "      <td>1247323</td>\n",
       "      <td>POINT (2682756.000 1247323.000)</td>\n",
       "    </tr>\n",
       "    <tr>\n",
       "      <th>6</th>\n",
       "      <td>ECO09113506</td>\n",
       "      <td>3923</td>\n",
       "      <td>2021-01-01T00:00</td>\n",
       "      <td>0.0</td>\n",
       "      <td>1.0</td>\n",
       "      <td>2681385</td>\n",
       "      <td>1247736</td>\n",
       "      <td>POINT (2681385.000 1247736.000)</td>\n",
       "    </tr>\n",
       "    <tr>\n",
       "      <th>8</th>\n",
       "      <td>Y2G13124879</td>\n",
       "      <td>60</td>\n",
       "      <td>2021-01-01T00:00</td>\n",
       "      <td>0.0</td>\n",
       "      <td>0.0</td>\n",
       "      <td>2682731</td>\n",
       "      <td>1247708</td>\n",
       "      <td>POINT (2682731.000 1247708.000)</td>\n",
       "    </tr>\n",
       "    <tr>\n",
       "      <th>10</th>\n",
       "      <td>Y2H19111477</td>\n",
       "      <td>2993</td>\n",
       "      <td>2021-01-01T00:00</td>\n",
       "      <td>2.0</td>\n",
       "      <td>1.0</td>\n",
       "      <td>2683573</td>\n",
       "      <td>1248545</td>\n",
       "      <td>POINT (2683573.000 1248545.000)</td>\n",
       "    </tr>\n",
       "  </tbody>\n",
       "</table>\n",
       "</div>"
      ],
      "text/plain": [
       "     FK_ZAEHLER  FK_STANDORT             DATUM  VELO_IN  VELO_OUT      OST  \\\n",
       "1   ECO09113499         3927  2021-01-01T00:00      0.0       3.0  2682873   \n",
       "5   Y2H19111476         2991  2021-01-01T00:00      0.0       0.0  2682756   \n",
       "6   ECO09113506         3923  2021-01-01T00:00      0.0       1.0  2681385   \n",
       "8   Y2G13124879           60  2021-01-01T00:00      0.0       0.0  2682731   \n",
       "10  Y2H19111477         2993  2021-01-01T00:00      2.0       1.0  2683573   \n",
       "\n",
       "       NORD                         geometry  \n",
       "1   1245891  POINT (2682873.000 1245891.000)  \n",
       "5   1247323  POINT (2682756.000 1247323.000)  \n",
       "6   1247736  POINT (2681385.000 1247736.000)  \n",
       "8   1247708  POINT (2682731.000 1247708.000)  \n",
       "10  1248545  POINT (2683573.000 1248545.000)  "
      ]
     },
     "execution_count": 36,
     "metadata": {},
     "output_type": "execute_result"
    }
   ],
   "source": [
    "Zaehlungen.head()"
   ]
  },
  {
   "cell_type": "code",
   "execution_count": 39,
   "metadata": {},
   "outputs": [
    {
     "data": {
      "text/html": [
       "<div>\n",
       "<style scoped>\n",
       "    .dataframe tbody tr th:only-of-type {\n",
       "        vertical-align: middle;\n",
       "    }\n",
       "\n",
       "    .dataframe tbody tr th {\n",
       "        vertical-align: top;\n",
       "    }\n",
       "\n",
       "    .dataframe thead th {\n",
       "        text-align: right;\n",
       "    }\n",
       "</style>\n",
       "<table border=\"1\" class=\"dataframe\">\n",
       "  <thead>\n",
       "    <tr style=\"text-align: right;\">\n",
       "      <th></th>\n",
       "      <th>FK_ZAEHLER</th>\n",
       "      <th>FK_STANDORT</th>\n",
       "      <th>DATUM</th>\n",
       "      <th>VELO_IN</th>\n",
       "      <th>VELO_OUT</th>\n",
       "      <th>OST</th>\n",
       "      <th>NORD</th>\n",
       "      <th>geometry</th>\n",
       "    </tr>\n",
       "  </thead>\n",
       "  <tbody>\n",
       "    <tr>\n",
       "      <th>1</th>\n",
       "      <td>ECO09113499</td>\n",
       "      <td>3927</td>\n",
       "      <td>2021-01-01T00:00</td>\n",
       "      <td>0.0</td>\n",
       "      <td>3.0</td>\n",
       "      <td>2682873</td>\n",
       "      <td>1245891</td>\n",
       "      <td>POINT (2682873.000 1245891.000)</td>\n",
       "    </tr>\n",
       "    <tr>\n",
       "      <th>38</th>\n",
       "      <td>ECO09113499</td>\n",
       "      <td>3927</td>\n",
       "      <td>2021-01-01T00:15</td>\n",
       "      <td>0.0</td>\n",
       "      <td>0.0</td>\n",
       "      <td>2682873</td>\n",
       "      <td>1245891</td>\n",
       "      <td>POINT (2682873.000 1245891.000)</td>\n",
       "    </tr>\n",
       "    <tr>\n",
       "      <th>110</th>\n",
       "      <td>ECO09113499</td>\n",
       "      <td>3927</td>\n",
       "      <td>2021-01-01T00:30</td>\n",
       "      <td>2.0</td>\n",
       "      <td>1.0</td>\n",
       "      <td>2682873</td>\n",
       "      <td>1245891</td>\n",
       "      <td>POINT (2682873.000 1245891.000)</td>\n",
       "    </tr>\n",
       "    <tr>\n",
       "      <th>112</th>\n",
       "      <td>ECO09113499</td>\n",
       "      <td>3927</td>\n",
       "      <td>2021-01-01T00:45</td>\n",
       "      <td>0.0</td>\n",
       "      <td>1.0</td>\n",
       "      <td>2682873</td>\n",
       "      <td>1245891</td>\n",
       "      <td>POINT (2682873.000 1245891.000)</td>\n",
       "    </tr>\n",
       "    <tr>\n",
       "      <th>149</th>\n",
       "      <td>ECO09113499</td>\n",
       "      <td>3927</td>\n",
       "      <td>2021-01-01T01:00</td>\n",
       "      <td>0.0</td>\n",
       "      <td>0.0</td>\n",
       "      <td>2682873</td>\n",
       "      <td>1245891</td>\n",
       "      <td>POINT (2682873.000 1245891.000)</td>\n",
       "    </tr>\n",
       "    <tr>\n",
       "      <th>...</th>\n",
       "      <td>...</td>\n",
       "      <td>...</td>\n",
       "      <td>...</td>\n",
       "      <td>...</td>\n",
       "      <td>...</td>\n",
       "      <td>...</td>\n",
       "      <td>...</td>\n",
       "      <td>...</td>\n",
       "    </tr>\n",
       "    <tr>\n",
       "      <th>1178430</th>\n",
       "      <td>ECO09113499</td>\n",
       "      <td>3927</td>\n",
       "      <td>2021-12-31T22:45</td>\n",
       "      <td>3.0</td>\n",
       "      <td>0.0</td>\n",
       "      <td>2682873</td>\n",
       "      <td>1245891</td>\n",
       "      <td>POINT (2682873.000 1245891.000)</td>\n",
       "    </tr>\n",
       "    <tr>\n",
       "      <th>1178463</th>\n",
       "      <td>ECO09113499</td>\n",
       "      <td>3927</td>\n",
       "      <td>2021-12-31T23:00</td>\n",
       "      <td>0.0</td>\n",
       "      <td>2.0</td>\n",
       "      <td>2682873</td>\n",
       "      <td>1245891</td>\n",
       "      <td>POINT (2682873.000 1245891.000)</td>\n",
       "    </tr>\n",
       "    <tr>\n",
       "      <th>1178496</th>\n",
       "      <td>ECO09113499</td>\n",
       "      <td>3927</td>\n",
       "      <td>2021-12-31T23:15</td>\n",
       "      <td>3.0</td>\n",
       "      <td>0.0</td>\n",
       "      <td>2682873</td>\n",
       "      <td>1245891</td>\n",
       "      <td>POINT (2682873.000 1245891.000)</td>\n",
       "    </tr>\n",
       "    <tr>\n",
       "      <th>1178529</th>\n",
       "      <td>ECO09113499</td>\n",
       "      <td>3927</td>\n",
       "      <td>2021-12-31T23:30</td>\n",
       "      <td>1.0</td>\n",
       "      <td>0.0</td>\n",
       "      <td>2682873</td>\n",
       "      <td>1245891</td>\n",
       "      <td>POINT (2682873.000 1245891.000)</td>\n",
       "    </tr>\n",
       "    <tr>\n",
       "      <th>1178562</th>\n",
       "      <td>ECO09113499</td>\n",
       "      <td>3927</td>\n",
       "      <td>2021-12-31T23:45</td>\n",
       "      <td>0.0</td>\n",
       "      <td>2.0</td>\n",
       "      <td>2682873</td>\n",
       "      <td>1245891</td>\n",
       "      <td>POINT (2682873.000 1245891.000)</td>\n",
       "    </tr>\n",
       "  </tbody>\n",
       "</table>\n",
       "<p>34848 rows × 8 columns</p>\n",
       "</div>"
      ],
      "text/plain": [
       "          FK_ZAEHLER  FK_STANDORT             DATUM  VELO_IN  VELO_OUT  \\\n",
       "1        ECO09113499         3927  2021-01-01T00:00      0.0       3.0   \n",
       "38       ECO09113499         3927  2021-01-01T00:15      0.0       0.0   \n",
       "110      ECO09113499         3927  2021-01-01T00:30      2.0       1.0   \n",
       "112      ECO09113499         3927  2021-01-01T00:45      0.0       1.0   \n",
       "149      ECO09113499         3927  2021-01-01T01:00      0.0       0.0   \n",
       "...              ...          ...               ...      ...       ...   \n",
       "1178430  ECO09113499         3927  2021-12-31T22:45      3.0       0.0   \n",
       "1178463  ECO09113499         3927  2021-12-31T23:00      0.0       2.0   \n",
       "1178496  ECO09113499         3927  2021-12-31T23:15      3.0       0.0   \n",
       "1178529  ECO09113499         3927  2021-12-31T23:30      1.0       0.0   \n",
       "1178562  ECO09113499         3927  2021-12-31T23:45      0.0       2.0   \n",
       "\n",
       "             OST     NORD                         geometry  \n",
       "1        2682873  1245891  POINT (2682873.000 1245891.000)  \n",
       "38       2682873  1245891  POINT (2682873.000 1245891.000)  \n",
       "110      2682873  1245891  POINT (2682873.000 1245891.000)  \n",
       "112      2682873  1245891  POINT (2682873.000 1245891.000)  \n",
       "149      2682873  1245891  POINT (2682873.000 1245891.000)  \n",
       "...          ...      ...                              ...  \n",
       "1178430  2682873  1245891  POINT (2682873.000 1245891.000)  \n",
       "1178463  2682873  1245891  POINT (2682873.000 1245891.000)  \n",
       "1178496  2682873  1245891  POINT (2682873.000 1245891.000)  \n",
       "1178529  2682873  1245891  POINT (2682873.000 1245891.000)  \n",
       "1178562  2682873  1245891  POINT (2682873.000 1245891.000)  \n",
       "\n",
       "[34848 rows x 8 columns]"
      ]
     },
     "execution_count": 39,
     "metadata": {},
     "output_type": "execute_result"
    }
   ],
   "source": [
    "#have a look at all data points for one zaehler\n",
    "#important..dont work with Zahler but rather use Standort, as Zaehler are used for multiple locations\n",
    "Zaehlungen.loc[Zaehlungen['FK_ZAEHLER'] == 'ECO09113499']"
   ]
  },
  {
   "cell_type": "code",
   "execution_count": 64,
   "metadata": {},
   "outputs": [
    {
     "data": {
      "text/html": [
       "<div>\n",
       "<style scoped>\n",
       "    .dataframe tbody tr th:only-of-type {\n",
       "        vertical-align: middle;\n",
       "    }\n",
       "\n",
       "    .dataframe tbody tr th {\n",
       "        vertical-align: top;\n",
       "    }\n",
       "\n",
       "    .dataframe thead th {\n",
       "        text-align: right;\n",
       "    }\n",
       "</style>\n",
       "<table border=\"1\" class=\"dataframe\">\n",
       "  <thead>\n",
       "    <tr style=\"text-align: right;\">\n",
       "      <th></th>\n",
       "      <th>FK_STANDORT</th>\n",
       "      <th>VELO_IN</th>\n",
       "      <th>VELO_OUT</th>\n",
       "      <th>OST</th>\n",
       "      <th>NORD</th>\n",
       "    </tr>\n",
       "    <tr>\n",
       "      <th>FK_ZAEHLER</th>\n",
       "      <th></th>\n",
       "      <th></th>\n",
       "      <th></th>\n",
       "      <th></th>\n",
       "      <th></th>\n",
       "    </tr>\n",
       "  </thead>\n",
       "  <tbody>\n",
       "    <tr>\n",
       "      <th>ECO09113499</th>\n",
       "      <td>136848096</td>\n",
       "      <td>336158.0</td>\n",
       "      <td>206575.0</td>\n",
       "      <td>93492758304</td>\n",
       "      <td>43416809568</td>\n",
       "    </tr>\n",
       "    <tr>\n",
       "      <th>ECO09113500</th>\n",
       "      <td>95518656</td>\n",
       "      <td>102930.0</td>\n",
       "      <td>104915.0</td>\n",
       "      <td>85991094912</td>\n",
       "      <td>40143839424</td>\n",
       "    </tr>\n",
       "    <tr>\n",
       "      <th>ECO09113503</th>\n",
       "      <td>102840192</td>\n",
       "      <td>134502.0</td>\n",
       "      <td>74659.0</td>\n",
       "      <td>70299684000</td>\n",
       "      <td>32682817440</td>\n",
       "    </tr>\n",
       "    <tr>\n",
       "      <th>ECO09113506</th>\n",
       "      <td>96776487</td>\n",
       "      <td>161097.0</td>\n",
       "      <td>175686.0</td>\n",
       "      <td>66147086565</td>\n",
       "      <td>30780399384</td>\n",
       "    </tr>\n",
       "    <tr>\n",
       "      <th>ECO10053914</th>\n",
       "      <td>101776128</td>\n",
       "      <td>66421.0</td>\n",
       "      <td>58600.0</td>\n",
       "      <td>91708083456</td>\n",
       "      <td>42775262592</td>\n",
       "    </tr>\n",
       "    <tr>\n",
       "      <th>Y2G13124877</th>\n",
       "      <td>8123292</td>\n",
       "      <td>2371.0</td>\n",
       "      <td>2512.0</td>\n",
       "      <td>12880511681</td>\n",
       "      <td>5984681749</td>\n",
       "    </tr>\n",
       "    <tr>\n",
       "      <th>Y2G13124879</th>\n",
       "      <td>2102400</td>\n",
       "      <td>187064.0</td>\n",
       "      <td>96434.0</td>\n",
       "      <td>94002894240</td>\n",
       "      <td>43719688320</td>\n",
       "    </tr>\n",
       "    <tr>\n",
       "      <th>Y2H16039396</th>\n",
       "      <td>34592012</td>\n",
       "      <td>172106.0</td>\n",
       "      <td>46896.0</td>\n",
       "      <td>28314316576</td>\n",
       "      <td>13177170916</td>\n",
       "    </tr>\n",
       "    <tr>\n",
       "      <th>Y2H16069942</th>\n",
       "      <td>25649280</td>\n",
       "      <td>68338.0</td>\n",
       "      <td>303815.0</td>\n",
       "      <td>93953417760</td>\n",
       "      <td>43753221600</td>\n",
       "    </tr>\n",
       "    <tr>\n",
       "      <th>Y2H16069943</th>\n",
       "      <td>36336480</td>\n",
       "      <td>624505.0</td>\n",
       "      <td>306161.0</td>\n",
       "      <td>93954118560</td>\n",
       "      <td>43752590880</td>\n",
       "    </tr>\n",
       "    <tr>\n",
       "      <th>Y2H18106792</th>\n",
       "      <td>126073920</td>\n",
       "      <td>295787.0</td>\n",
       "      <td>295688.0</td>\n",
       "      <td>94047570240</td>\n",
       "      <td>43679672640</td>\n",
       "    </tr>\n",
       "    <tr>\n",
       "      <th>Y2H19070283</th>\n",
       "      <td>104419200</td>\n",
       "      <td>255183.0</td>\n",
       "      <td>451204.0</td>\n",
       "      <td>94010392800</td>\n",
       "      <td>43737804000</td>\n",
       "    </tr>\n",
       "    <tr>\n",
       "      <th>Y2H19090841</th>\n",
       "      <td>104623468</td>\n",
       "      <td>133605.0</td>\n",
       "      <td>127544.0</td>\n",
       "      <td>94062243964</td>\n",
       "      <td>43866384708</td>\n",
       "    </tr>\n",
       "    <tr>\n",
       "      <th>Y2H19101198</th>\n",
       "      <td>105014880</td>\n",
       "      <td>234487.0</td>\n",
       "      <td>147100.0</td>\n",
       "      <td>94009972320</td>\n",
       "      <td>43758687840</td>\n",
       "    </tr>\n",
       "    <tr>\n",
       "      <th>Y2H19101255</th>\n",
       "      <td>104734560</td>\n",
       "      <td>953347.0</td>\n",
       "      <td>405080.0</td>\n",
       "      <td>93987021120</td>\n",
       "      <td>43741272960</td>\n",
       "    </tr>\n",
       "    <tr>\n",
       "      <th>Y2H19111476</th>\n",
       "      <td>66890724</td>\n",
       "      <td>68409.0</td>\n",
       "      <td>72828.0</td>\n",
       "      <td>59997155184</td>\n",
       "      <td>27895131572</td>\n",
       "    </tr>\n",
       "    <tr>\n",
       "      <th>Y2H19111477</th>\n",
       "      <td>92232288</td>\n",
       "      <td>255539.0</td>\n",
       "      <td>195607.0</td>\n",
       "      <td>82696985568</td>\n",
       "      <td>38475162720</td>\n",
       "    </tr>\n",
       "    <tr>\n",
       "      <th>Y2H20011946</th>\n",
       "      <td>40254256</td>\n",
       "      <td>11878.0</td>\n",
       "      <td>27260.0</td>\n",
       "      <td>35999598804</td>\n",
       "      <td>16786212856</td>\n",
       "    </tr>\n",
       "    <tr>\n",
       "      <th>Y2H20063173</th>\n",
       "      <td>105225120</td>\n",
       "      <td>108009.0</td>\n",
       "      <td>92860.0</td>\n",
       "      <td>93899035680</td>\n",
       "      <td>43764469440</td>\n",
       "    </tr>\n",
       "    <tr>\n",
       "      <th>Y2H20114444</th>\n",
       "      <td>89040744</td>\n",
       "      <td>263409.0</td>\n",
       "      <td>170028.0</td>\n",
       "      <td>79304410614</td>\n",
       "      <td>36963260568</td>\n",
       "    </tr>\n",
       "    <tr>\n",
       "      <th>Y2H21056105</th>\n",
       "      <td>46430468</td>\n",
       "      <td>101551.0</td>\n",
       "      <td>1574.0</td>\n",
       "      <td>29365787556</td>\n",
       "      <td>13666694944</td>\n",
       "    </tr>\n",
       "    <tr>\n",
       "      <th>Y2H21056106</th>\n",
       "      <td>46441416</td>\n",
       "      <td>99294.0</td>\n",
       "      <td>1567.0</td>\n",
       "      <td>29366225476</td>\n",
       "      <td>13668041548</td>\n",
       "    </tr>\n",
       "  </tbody>\n",
       "</table>\n",
       "</div>"
      ],
      "text/plain": [
       "             FK_STANDORT   VELO_IN  VELO_OUT          OST         NORD\n",
       "FK_ZAEHLER                                                            \n",
       "ECO09113499    136848096  336158.0  206575.0  93492758304  43416809568\n",
       "ECO09113500     95518656  102930.0  104915.0  85991094912  40143839424\n",
       "ECO09113503    102840192  134502.0   74659.0  70299684000  32682817440\n",
       "ECO09113506     96776487  161097.0  175686.0  66147086565  30780399384\n",
       "ECO10053914    101776128   66421.0   58600.0  91708083456  42775262592\n",
       "Y2G13124877      8123292    2371.0    2512.0  12880511681   5984681749\n",
       "Y2G13124879      2102400  187064.0   96434.0  94002894240  43719688320\n",
       "Y2H16039396     34592012  172106.0   46896.0  28314316576  13177170916\n",
       "Y2H16069942     25649280   68338.0  303815.0  93953417760  43753221600\n",
       "Y2H16069943     36336480  624505.0  306161.0  93954118560  43752590880\n",
       "Y2H18106792    126073920  295787.0  295688.0  94047570240  43679672640\n",
       "Y2H19070283    104419200  255183.0  451204.0  94010392800  43737804000\n",
       "Y2H19090841    104623468  133605.0  127544.0  94062243964  43866384708\n",
       "Y2H19101198    105014880  234487.0  147100.0  94009972320  43758687840\n",
       "Y2H19101255    104734560  953347.0  405080.0  93987021120  43741272960\n",
       "Y2H19111476     66890724   68409.0   72828.0  59997155184  27895131572\n",
       "Y2H19111477     92232288  255539.0  195607.0  82696985568  38475162720\n",
       "Y2H20011946     40254256   11878.0   27260.0  35999598804  16786212856\n",
       "Y2H20063173    105225120  108009.0   92860.0  93899035680  43764469440\n",
       "Y2H20114444     89040744  263409.0  170028.0  79304410614  36963260568\n",
       "Y2H21056105     46430468  101551.0    1574.0  29365787556  13666694944\n",
       "Y2H21056106     46441416   99294.0    1567.0  29366225476  13668041548"
      ]
     },
     "execution_count": 64,
     "metadata": {},
     "output_type": "execute_result"
    }
   ],
   "source": [
    "#Count data is represented in a 15min frequency. Better work with 1h frequency.\n",
    "gruppiert = Zaehlungen.groupby(\"FK_ZAEHLER\").sum()\n",
    "\n",
    "gruppiert\n"
   ]
  },
  {
   "cell_type": "code",
   "execution_count": 63,
   "metadata": {},
   "outputs": [
    {
     "ename": "KeyError",
     "evalue": "\"None of [Index(['ECO09113499', 'Y2H19111476', 'ECO09113506', 'Y2G13124879',\\n       'Y2H19111477', 'Y2H20063173', 'Y2H18106792', 'ECO10053914',\\n       'Y2H16039396', 'Y2H16069942',\\n       ...\\n       'Y2H19090841', 'Y2H19101255', 'Y2H20011946', 'Y2H19101198',\\n       'ECO09113499', 'Y2H19070283', 'Y2H19111476', 'Y2H19111477',\\n       'Y2G13124879', 'ECO09113500'],\\n      dtype='object', length=600754)] are in the [index]\"",
     "output_type": "error",
     "traceback": [
      "\u001b[0;31m---------------------------------------------------------------------------\u001b[0m",
      "\u001b[0;31mKeyError\u001b[0m                                  Traceback (most recent call last)",
      "\u001b[0;32m/var/folders/xw/nkrcq2b967l17kzmtv_v3hf40000gn/T/ipykernel_731/2485487630.py\u001b[0m in \u001b[0;36m<module>\u001b[0;34m\u001b[0m\n\u001b[1;32m      3\u001b[0m \u001b[0;34m\u001b[0m\u001b[0m\n\u001b[1;32m      4\u001b[0m \u001b[0;32mfor\u001b[0m \u001b[0mi\u001b[0m \u001b[0;32min\u001b[0m \u001b[0mrange\u001b[0m\u001b[0;34m(\u001b[0m\u001b[0mlen\u001b[0m\u001b[0;34m(\u001b[0m\u001b[0mZaehlungen\u001b[0m\u001b[0;34m)\u001b[0m\u001b[0;34m)\u001b[0m\u001b[0;34m:\u001b[0m\u001b[0;34m\u001b[0m\u001b[0;34m\u001b[0m\u001b[0m\n\u001b[0;32m----> 5\u001b[0;31m     \u001b[0;32mif\u001b[0m \u001b[0mZaehlungen\u001b[0m\u001b[0;34m.\u001b[0m\u001b[0mloc\u001b[0m\u001b[0;34m[\u001b[0m\u001b[0mZaehlungen\u001b[0m\u001b[0;34m[\u001b[0m\u001b[0;34m'FK_ZAEHLER'\u001b[0m\u001b[0;34m]\u001b[0m\u001b[0;34m]\u001b[0m \u001b[0;34m==\u001b[0m \u001b[0mZaehlungen\u001b[0m\u001b[0;34m.\u001b[0m\u001b[0mloc\u001b[0m\u001b[0;34m[\u001b[0m\u001b[0mZaehlungen\u001b[0m\u001b[0;34m[\u001b[0m\u001b[0;34m'FK_ZAEHLER'\u001b[0m\u001b[0;34m]\u001b[0m\u001b[0;34m]\u001b[0m\u001b[0;34m:\u001b[0m\u001b[0;34m\u001b[0m\u001b[0;34m\u001b[0m\u001b[0m\n\u001b[0m\u001b[1;32m      6\u001b[0m         \u001b[0;32mif\u001b[0m \u001b[0mZaehlungen\u001b[0m\u001b[0;34m.\u001b[0m\u001b[0mDATUM\u001b[0m\u001b[0;34m.\u001b[0m\u001b[0mastype\u001b[0m\u001b[0;34m(\u001b[0m\u001b[0mstr\u001b[0m\u001b[0;34m)\u001b[0m\u001b[0;34m.\u001b[0m\u001b[0mstr\u001b[0m\u001b[0;34m[\u001b[0m\u001b[0;34m:\u001b[0m\u001b[0;36m13\u001b[0m\u001b[0;34m]\u001b[0m \u001b[0;34m==\u001b[0m \u001b[0mZaehlungen\u001b[0m\u001b[0;34m.\u001b[0m\u001b[0mDATUM\u001b[0m\u001b[0;34m.\u001b[0m\u001b[0mastype\u001b[0m\u001b[0;34m(\u001b[0m\u001b[0mstr\u001b[0m\u001b[0;34m)\u001b[0m\u001b[0;34m.\u001b[0m\u001b[0mstr\u001b[0m\u001b[0;34m[\u001b[0m\u001b[0;34m:\u001b[0m\u001b[0;36m13\u001b[0m\u001b[0;34m]\u001b[0m\u001b[0;34m:\u001b[0m\u001b[0;34m\u001b[0m\u001b[0;34m\u001b[0m\u001b[0m\n\u001b[1;32m      7\u001b[0m             \u001b[0mx\u001b[0m \u001b[0;34m=\u001b[0m \u001b[0mVELO_IN\u001b[0m\u001b[0;34m[\u001b[0m\u001b[0mi\u001b[0m\u001b[0;34m]\u001b[0m\u001b[0;34m\u001b[0m\u001b[0;34m\u001b[0m\u001b[0m\n",
      "\u001b[0;32m/opt/anaconda3/envs/myenv/lib/python3.7/site-packages/pandas/core/indexing.py\u001b[0m in \u001b[0;36m__getitem__\u001b[0;34m(self, key)\u001b[0m\n\u001b[1;32m    929\u001b[0m \u001b[0;34m\u001b[0m\u001b[0m\n\u001b[1;32m    930\u001b[0m             \u001b[0mmaybe_callable\u001b[0m \u001b[0;34m=\u001b[0m \u001b[0mcom\u001b[0m\u001b[0;34m.\u001b[0m\u001b[0mapply_if_callable\u001b[0m\u001b[0;34m(\u001b[0m\u001b[0mkey\u001b[0m\u001b[0;34m,\u001b[0m \u001b[0mself\u001b[0m\u001b[0;34m.\u001b[0m\u001b[0mobj\u001b[0m\u001b[0;34m)\u001b[0m\u001b[0;34m\u001b[0m\u001b[0;34m\u001b[0m\u001b[0m\n\u001b[0;32m--> 931\u001b[0;31m             \u001b[0;32mreturn\u001b[0m \u001b[0mself\u001b[0m\u001b[0;34m.\u001b[0m\u001b[0m_getitem_axis\u001b[0m\u001b[0;34m(\u001b[0m\u001b[0mmaybe_callable\u001b[0m\u001b[0;34m,\u001b[0m \u001b[0maxis\u001b[0m\u001b[0;34m=\u001b[0m\u001b[0maxis\u001b[0m\u001b[0;34m)\u001b[0m\u001b[0;34m\u001b[0m\u001b[0;34m\u001b[0m\u001b[0m\n\u001b[0m\u001b[1;32m    932\u001b[0m \u001b[0;34m\u001b[0m\u001b[0m\n\u001b[1;32m    933\u001b[0m     \u001b[0;32mdef\u001b[0m \u001b[0m_is_scalar_access\u001b[0m\u001b[0;34m(\u001b[0m\u001b[0mself\u001b[0m\u001b[0;34m,\u001b[0m \u001b[0mkey\u001b[0m\u001b[0;34m:\u001b[0m \u001b[0mtuple\u001b[0m\u001b[0;34m)\u001b[0m\u001b[0;34m:\u001b[0m\u001b[0;34m\u001b[0m\u001b[0;34m\u001b[0m\u001b[0m\n",
      "\u001b[0;32m/opt/anaconda3/envs/myenv/lib/python3.7/site-packages/pandas/core/indexing.py\u001b[0m in \u001b[0;36m_getitem_axis\u001b[0;34m(self, key, axis)\u001b[0m\n\u001b[1;32m   1151\u001b[0m                     \u001b[0;32mraise\u001b[0m \u001b[0mValueError\u001b[0m\u001b[0;34m(\u001b[0m\u001b[0;34m\"Cannot index with multidimensional key\"\u001b[0m\u001b[0;34m)\u001b[0m\u001b[0;34m\u001b[0m\u001b[0;34m\u001b[0m\u001b[0m\n\u001b[1;32m   1152\u001b[0m \u001b[0;34m\u001b[0m\u001b[0m\n\u001b[0;32m-> 1153\u001b[0;31m                 \u001b[0;32mreturn\u001b[0m \u001b[0mself\u001b[0m\u001b[0;34m.\u001b[0m\u001b[0m_getitem_iterable\u001b[0m\u001b[0;34m(\u001b[0m\u001b[0mkey\u001b[0m\u001b[0;34m,\u001b[0m \u001b[0maxis\u001b[0m\u001b[0;34m=\u001b[0m\u001b[0maxis\u001b[0m\u001b[0;34m)\u001b[0m\u001b[0;34m\u001b[0m\u001b[0;34m\u001b[0m\u001b[0m\n\u001b[0m\u001b[1;32m   1154\u001b[0m \u001b[0;34m\u001b[0m\u001b[0m\n\u001b[1;32m   1155\u001b[0m             \u001b[0;31m# nested tuple slicing\u001b[0m\u001b[0;34m\u001b[0m\u001b[0;34m\u001b[0m\u001b[0;34m\u001b[0m\u001b[0m\n",
      "\u001b[0;32m/opt/anaconda3/envs/myenv/lib/python3.7/site-packages/pandas/core/indexing.py\u001b[0m in \u001b[0;36m_getitem_iterable\u001b[0;34m(self, key, axis)\u001b[0m\n\u001b[1;32m   1091\u001b[0m \u001b[0;34m\u001b[0m\u001b[0m\n\u001b[1;32m   1092\u001b[0m         \u001b[0;31m# A collection of keys\u001b[0m\u001b[0;34m\u001b[0m\u001b[0;34m\u001b[0m\u001b[0;34m\u001b[0m\u001b[0m\n\u001b[0;32m-> 1093\u001b[0;31m         \u001b[0mkeyarr\u001b[0m\u001b[0;34m,\u001b[0m \u001b[0mindexer\u001b[0m \u001b[0;34m=\u001b[0m \u001b[0mself\u001b[0m\u001b[0;34m.\u001b[0m\u001b[0m_get_listlike_indexer\u001b[0m\u001b[0;34m(\u001b[0m\u001b[0mkey\u001b[0m\u001b[0;34m,\u001b[0m \u001b[0maxis\u001b[0m\u001b[0;34m)\u001b[0m\u001b[0;34m\u001b[0m\u001b[0;34m\u001b[0m\u001b[0m\n\u001b[0m\u001b[1;32m   1094\u001b[0m         return self.obj._reindex_with_indexers(\n\u001b[1;32m   1095\u001b[0m             \u001b[0;34m{\u001b[0m\u001b[0maxis\u001b[0m\u001b[0;34m:\u001b[0m \u001b[0;34m[\u001b[0m\u001b[0mkeyarr\u001b[0m\u001b[0;34m,\u001b[0m \u001b[0mindexer\u001b[0m\u001b[0;34m]\u001b[0m\u001b[0;34m}\u001b[0m\u001b[0;34m,\u001b[0m \u001b[0mcopy\u001b[0m\u001b[0;34m=\u001b[0m\u001b[0;32mTrue\u001b[0m\u001b[0;34m,\u001b[0m \u001b[0mallow_dups\u001b[0m\u001b[0;34m=\u001b[0m\u001b[0;32mTrue\u001b[0m\u001b[0;34m\u001b[0m\u001b[0;34m\u001b[0m\u001b[0m\n",
      "\u001b[0;32m/opt/anaconda3/envs/myenv/lib/python3.7/site-packages/pandas/core/indexing.py\u001b[0m in \u001b[0;36m_get_listlike_indexer\u001b[0;34m(self, key, axis)\u001b[0m\n\u001b[1;32m   1312\u001b[0m             \u001b[0mkeyarr\u001b[0m\u001b[0;34m,\u001b[0m \u001b[0mindexer\u001b[0m\u001b[0;34m,\u001b[0m \u001b[0mnew_indexer\u001b[0m \u001b[0;34m=\u001b[0m \u001b[0max\u001b[0m\u001b[0;34m.\u001b[0m\u001b[0m_reindex_non_unique\u001b[0m\u001b[0;34m(\u001b[0m\u001b[0mkeyarr\u001b[0m\u001b[0;34m)\u001b[0m\u001b[0;34m\u001b[0m\u001b[0;34m\u001b[0m\u001b[0m\n\u001b[1;32m   1313\u001b[0m \u001b[0;34m\u001b[0m\u001b[0m\n\u001b[0;32m-> 1314\u001b[0;31m         \u001b[0mself\u001b[0m\u001b[0;34m.\u001b[0m\u001b[0m_validate_read_indexer\u001b[0m\u001b[0;34m(\u001b[0m\u001b[0mkeyarr\u001b[0m\u001b[0;34m,\u001b[0m \u001b[0mindexer\u001b[0m\u001b[0;34m,\u001b[0m \u001b[0maxis\u001b[0m\u001b[0;34m)\u001b[0m\u001b[0;34m\u001b[0m\u001b[0;34m\u001b[0m\u001b[0m\n\u001b[0m\u001b[1;32m   1315\u001b[0m \u001b[0;34m\u001b[0m\u001b[0m\n\u001b[1;32m   1316\u001b[0m         if needs_i8_conversion(ax.dtype) or isinstance(\n",
      "\u001b[0;32m/opt/anaconda3/envs/myenv/lib/python3.7/site-packages/pandas/core/indexing.py\u001b[0m in \u001b[0;36m_validate_read_indexer\u001b[0;34m(self, key, indexer, axis)\u001b[0m\n\u001b[1;32m   1372\u001b[0m                 \u001b[0;32mif\u001b[0m \u001b[0muse_interval_msg\u001b[0m\u001b[0;34m:\u001b[0m\u001b[0;34m\u001b[0m\u001b[0;34m\u001b[0m\u001b[0m\n\u001b[1;32m   1373\u001b[0m                     \u001b[0mkey\u001b[0m \u001b[0;34m=\u001b[0m \u001b[0mlist\u001b[0m\u001b[0;34m(\u001b[0m\u001b[0mkey\u001b[0m\u001b[0;34m)\u001b[0m\u001b[0;34m\u001b[0m\u001b[0;34m\u001b[0m\u001b[0m\n\u001b[0;32m-> 1374\u001b[0;31m                 \u001b[0;32mraise\u001b[0m \u001b[0mKeyError\u001b[0m\u001b[0;34m(\u001b[0m\u001b[0;34mf\"None of [{key}] are in the [{axis_name}]\"\u001b[0m\u001b[0;34m)\u001b[0m\u001b[0;34m\u001b[0m\u001b[0;34m\u001b[0m\u001b[0m\n\u001b[0m\u001b[1;32m   1375\u001b[0m \u001b[0;34m\u001b[0m\u001b[0m\n\u001b[1;32m   1376\u001b[0m             \u001b[0mnot_found\u001b[0m \u001b[0;34m=\u001b[0m \u001b[0mlist\u001b[0m\u001b[0;34m(\u001b[0m\u001b[0mensure_index\u001b[0m\u001b[0;34m(\u001b[0m\u001b[0mkey\u001b[0m\u001b[0;34m)\u001b[0m\u001b[0;34m[\u001b[0m\u001b[0mmissing_mask\u001b[0m\u001b[0;34m.\u001b[0m\u001b[0mnonzero\u001b[0m\u001b[0;34m(\u001b[0m\u001b[0;34m)\u001b[0m\u001b[0;34m[\u001b[0m\u001b[0;36m0\u001b[0m\u001b[0;34m]\u001b[0m\u001b[0;34m]\u001b[0m\u001b[0;34m.\u001b[0m\u001b[0munique\u001b[0m\u001b[0;34m(\u001b[0m\u001b[0;34m)\u001b[0m\u001b[0;34m)\u001b[0m\u001b[0;34m\u001b[0m\u001b[0;34m\u001b[0m\u001b[0m\n",
      "\u001b[0;31mKeyError\u001b[0m: \"None of [Index(['ECO09113499', 'Y2H19111476', 'ECO09113506', 'Y2G13124879',\\n       'Y2H19111477', 'Y2H20063173', 'Y2H18106792', 'ECO10053914',\\n       'Y2H16039396', 'Y2H16069942',\\n       ...\\n       'Y2H19090841', 'Y2H19101255', 'Y2H20011946', 'Y2H19101198',\\n       'ECO09113499', 'Y2H19070283', 'Y2H19111476', 'Y2H19111477',\\n       'Y2G13124879', 'ECO09113500'],\\n      dtype='object', length=600754)] are in the [index]\""
     ]
    }
   ],
   "source": [
    "#Count data is represented in a 15min frequency. Better work with 1h frequency. Approach to get there with a loop..doesnt work just yet.\n",
    "inn = []\n",
    "out = []\n",
    "\n",
    "for i in range(len(Zaehlungen)):\n",
    "    if Zaehlungen.loc[Zaehlungen['FK_ZAEHLER']] == Zaehlungen.loc[Zaehlungen['FK_ZAEHLER']]:\n",
    "        if Zaehlungen.DATUM.astype(str).str[:13] == Zaehlungen.DATUM.astype(str).str[:13]:\n",
    "            x = VELO_IN[i]\n",
    "            y = VELO_OUT[i]\n",
    "            inn[i] = x + VELO_IN[i]\n",
    "            out[i] = y + VELO_OUT[i]"
   ]
  },
  {
   "cell_type": "markdown",
   "metadata": {},
   "source": [
    "2: We segment the bicycle path network into nodes and edges\n"
   ]
  },
  {
   "cell_type": "code",
   "execution_count": null,
   "metadata": {},
   "outputs": [],
   "source": []
  },
  {
   "cell_type": "code",
   "execution_count": null,
   "metadata": {},
   "outputs": [],
   "source": []
  },
  {
   "cell_type": "markdown",
   "metadata": {},
   "source": [
    "3: Then all accidents get attributed to the spatially closest edge\n",
    "Accidents get also attributed by severity of the accident (categories already set by raw data)"
   ]
  },
  {
   "cell_type": "markdown",
   "metadata": {},
   "source": [
    "4: Then, accidents normalized by the closest (determined via Voronoi tessellation) counting station value. \n",
    "The resulting graph of safety-weighted edges has an x, y and t (Lat, Long and Daytime) dimension. "
   ]
  },
  {
   "cell_type": "markdown",
   "metadata": {},
   "source": [
    "5: We will then use this graph to train a model (Maybe SVM, GCN or we will see what the lecture brings us).\n",
    "The model should then be capable to predict the safety of any rout at any time in Zurich"
   ]
  },
  {
   "cell_type": "code",
   "execution_count": null,
   "metadata": {},
   "outputs": [],
   "source": []
  },
  {
   "cell_type": "markdown",
   "metadata": {},
   "source": [
    "BONUS:\n",
    "\n",
    "If time allows it, we will also introduce the following features:\n",
    "Weather data (to introduce an additional dimension, like dry, wet & frozen)\n",
    "Topography (to introduce an additional weighting criteria: steepness of the segments) \n",
    "Connect our model to an actual routing engine (which uses travel time for costing of the edges)"
   ]
  }
 ],
 "metadata": {
  "interpreter": {
   "hash": "e47b1a34c05c1e3b83a62d7885c9d1b5ef8a0522d3be0182d0a008ec409b2b3d"
  },
  "kernelspec": {
   "display_name": "Python 3.7.13 ('myenv')",
   "language": "python",
   "name": "python3"
  },
  "language_info": {
   "codemirror_mode": {
    "name": "ipython",
    "version": 3
   },
   "file_extension": ".py",
   "mimetype": "text/x-python",
   "name": "python",
   "nbconvert_exporter": "python",
   "pygments_lexer": "ipython3",
   "version": "3.7.13"
  },
  "orig_nbformat": 4
 },
 "nbformat": 4,
 "nbformat_minor": 2
}
