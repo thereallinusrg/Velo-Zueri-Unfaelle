{
 "cells": [
  {
   "cell_type": "code",
   "execution_count": 1,
   "metadata": {},
   "outputs": [
    {
     "name": "stdout",
     "output_type": "stream",
     "text": [
      "Hello World\n"
     ]
    }
   ],
   "source": [
    "print(\"Hello World\")"
   ]
  },
  {
   "cell_type": "markdown",
   "metadata": {},
   "source": [
    "1: First, we will conduct an EDA on all three data-sets to get a feeling for the data\n"
   ]
  },
  {
   "cell_type": "markdown",
   "metadata": {},
   "source": [
    "2: We segment the bicycle path network into nodes and edges\n"
   ]
  },
  {
   "cell_type": "markdown",
   "metadata": {},
   "source": [
    "3: Then all accidents get attributed to the spatially closest edge\n",
    "Accidents get also attributed by severity of the accident (categories already set by raw data)"
   ]
  },
  {
   "cell_type": "markdown",
   "metadata": {},
   "source": [
    "4: Then, accidents normalized by the closest (determined via Voronoi tessellation) counting station value. \n",
    "The resulting graph of safety-weighted edges has an x, y and t (Lat, Long and Daytime) dimension. "
   ]
  },
  {
   "cell_type": "markdown",
   "metadata": {},
   "source": [
    "5: We will then use this graph to train a model (Maybe SVM, GCN or we will see what the lecture brings us).\n",
    "The model should then be capable to predict the safety of any rout at any time in Zurich"
   ]
  },
  {
   "cell_type": "markdown",
   "metadata": {},
   "source": [
    "BONUS:\n",
    "\n",
    "If time allows it, we will also introduce the following features:\n",
    "Weather data (to introduce an additional dimension, like dry, wet & frozen)\n",
    "Topography (to introduce an additional weighting criteria: steepness of the segments) \n",
    "Connect our model to an actual routing engine (which uses travel time for costing of the edges)"
   ]
  }
 ],
 "metadata": {
  "interpreter": {
   "hash": "33b0dd217536f9de5fd4d24349b7ca1fcd12b98b7575b68eda84f50b7d00f807"
  },
  "kernelspec": {
   "display_name": "Python 3.9.12 ('DS-Env')",
   "language": "python",
   "name": "python3"
  },
  "language_info": {
   "codemirror_mode": {
    "name": "ipython",
    "version": 3
   },
   "file_extension": ".py",
   "mimetype": "text/x-python",
   "name": "python",
   "nbconvert_exporter": "python",
   "pygments_lexer": "ipython3",
   "version": "3.9.12"
  },
  "orig_nbformat": 4
 },
 "nbformat": 4,
 "nbformat_minor": 2
}
