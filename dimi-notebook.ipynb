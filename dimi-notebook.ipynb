{
 "cells": [
  {
   "cell_type": "markdown",
   "metadata": {},
   "source": []
  },
  {
   "cell_type": "code",
   "execution_count": 3,
   "metadata": {},
   "outputs": [],
   "source": [
    "# Imports and Modules:\n",
    "import geopandas as gpd"
   ]
  },
  {
   "cell_type": "code",
   "execution_count": null,
   "metadata": {},
   "outputs": [],
   "source": [
    "gpd.explore()"
   ]
  },
  {
   "cell_type": "markdown",
   "metadata": {},
   "source": [
    "# PRÄSENTATION\n",
    "Im folgenden eine mögliche Vorlage/Skelett zum Aufbau der Präsentation\n",
    "\n",
    "## INTRODUCTION\n",
    "**Who we are**\n",
    "\n",
    "- Names (mit Foto?)\n",
    "\n",
    "- Students of Geo  --> GIS PROJECT\n",
    "\n",
    "**Motivation**\n",
    "\n",
    "- Short explanation of the problem (incl pure statistics on accidents)\n",
    "\n",
    "- Short explanation of our goal\n",
    "\n",
    "\n",
    "## EDA\n",
    "- Present the raw data and source of raw data\n",
    "\n",
    "\n",
    "## Methods\n",
    "- \n",
    "\n",
    "## Result\n",
    "- \n",
    "\n",
    "## Limitations\n",
    "- \n",
    "\n",
    "## Possible solutions to limitations\n",
    "- \n",
    "\n",
    "## Future research\n",
    "- \n",
    "\n",
    "\n",
    "\n"
   ]
  }
 ],
 "metadata": {
  "interpreter": {
   "hash": "916dbcbb3f70747c44a77c7bcd40155683ae19c65e1c03b4aa3499c5328201f1"
  },
  "kernelspec": {
   "display_name": "Python 3.8.10 64-bit",
   "language": "python",
   "name": "python3"
  },
  "language_info": {
   "codemirror_mode": {
    "name": "ipython",
    "version": 3
   },
   "file_extension": ".py",
   "mimetype": "text/x-python",
   "name": "python",
   "nbconvert_exporter": "python",
   "pygments_lexer": "ipython3",
   "version": "3.8.10"
  },
  "orig_nbformat": 4
 },
 "nbformat": 4,
 "nbformat_minor": 2
}
