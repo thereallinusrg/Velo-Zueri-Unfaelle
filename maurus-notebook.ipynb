{
 "cells": [
  {
   "cell_type": "code",
   "execution_count": null,
   "metadata": {},
   "outputs": [],
   "source": [
    "from dateutil.parser import parse \n",
    "import matplotlib as mpl\n",
    "from matplotlib.pylab import rcParams\n",
    "\n",
    "import matplotlib.pyplot as plt\n",
    "import seaborn as sns\n",
    "import numpy as np\n",
    "import pandas as pd\n",
    "import geopandas as gpd"
   ]
  },
  {
   "cell_type": "code",
   "execution_count": null,
   "metadata": {},
   "outputs": [],
   "source": [
    "#Read data\n",
    "VerkehrsZaehlung = pd.read_csv(\"/Users/HF/Library/Mobile Documents/com~apple~CloudDocs/Velo-Zueri-Unfaelle/data/2021_verkehrszaehlungen_werte_fussgaenger_velo.csv\")\n",
    "#VeloWege = gpd.read_file(r'data/Velo_wege.gpkg')\n",
    "#Unfaelle = gpd.read_file(r'data/RoadTrafficAccidentLocations.gpkg')\n",
    "\n",
    "# Turn it into a GeoDataFrame with point geometries\n",
    "Zaehlungen = gpd.GeoDataFrame(\n",
    "    VerkehrsZaehlung, geometry=gpd.points_from_xy(VerkehrsZaehlung.OST, VerkehrsZaehlung.NORD))"
   ]
  },
  {
   "cell_type": "code",
   "execution_count": null,
   "metadata": {},
   "outputs": [],
   "source": [
    "Zaehlungen = Zaehlungen.drop([\"FUSS_OUT\", \"FUSS_IN\"], axis = 1)\n",
    "Zaehlungen.head()"
   ]
  },
  {
   "cell_type": "code",
   "execution_count": null,
   "metadata": {},
   "outputs": [],
   "source": [
    "# Aggregiert Daten auf eine Zählung pro Stunde. Daten von einzelner Zählstation \n",
    "# werden noch nicht wieder zusammengefügt. Koordinaten können nicht behalten werden,\n",
    "# können aber über den Standort wieder eingefügt werden.\n",
    "def aggregation(inp):\n",
    "    list_stations = inp.FK_STANDORT.unique()\n",
    "    aggregated_list = []\n",
    "\n",
    "    for standort in list_stations:\n",
    "        station = inp.loc[inp[\"FK_STANDORT\"] == standort]\n",
    "        coordinates = inp.loc[inp[\"FK_STANDORT\"] == standort, [\"FK_STANDORT\", \"geometry\"]]\n",
    "        station[\"Date_Hour\"] = station[\"DATUM\"].astype(str).str[:13]\n",
    "        grouped = station.groupby(\"Date_Hour\").agg({\"FK_STANDORT\": min, \"VELO_IN\": sum, \"VELO_OUT\": sum})\n",
    "        \n",
    "        #merged = pd.merge(grouped, coordinates)\n",
    "        #merged = pd.concat([grouped, coordinates], axis = 1)\n",
    "        merged = pd.merge(grouped, coordinates, on=\"FK_STANDORT\")\n",
    "        aggregated_list.append(merged)\n",
    "    \n",
    "    aggregated = pd.concat(aggregated_list)\n",
    "\n",
    "    return aggregated\n",
    "\n",
    "test = aggregation(Zaehlungen)"
   ]
  },
  {
   "cell_type": "code",
   "execution_count": null,
   "metadata": {},
   "outputs": [],
   "source": []
  }
 ],
 "metadata": {
  "language_info": {
   "name": "python"
  },
  "orig_nbformat": 4
 },
 "nbformat": 4,
 "nbformat_minor": 2
}
