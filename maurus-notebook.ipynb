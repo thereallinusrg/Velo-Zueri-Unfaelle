{
 "cells": [
  {
   "cell_type": "markdown",
   "metadata": {},
   "source": [
    "## Data Sciene - Project"
   ]
  },
  {
   "cell_type": "markdown",
   "metadata": {},
   "source": [
    "1: First, we will conduct an EDA on all three data-sets to get a feeling for the data\n",
    "\n",
    "2: We segment the bicycle path network into nodes and edges\n",
    "\n",
    "3: Then all accidents get attributed to the spatially closest edge\n",
    "Accidents get also attributed by severity of the accident (categories already set by raw data)\n",
    "\n",
    "4: Then, accidents normalized by the closest (determined via Voronoi tessellation) counting station value. \n",
    "The resulting graph of safety-weighted edges has an x, y and t (Lat, Long and Daytime) dimension. \n",
    "\n",
    "5: We will then use this graph to train a model (Maybe SVM, GCN or we will see what the lecture brings us).\n",
    "The model should then be capable to predict the safety of any rout at any time in Zurich\n",
    "\n",
    "BONUS:\n",
    "\n",
    "If time allows it, we will also introduce the following features:\n",
    "Weather data (to introduce an additional dimension, like dry, wet & frozen)\n",
    "Topography (to introduce an additional weighting criteria: steepness of the segments) \n",
    "Connect our model to an actual routing engine (which uses travel time for costing of the edges)"
   ]
  },
  {
   "cell_type": "code",
   "execution_count": null,
   "metadata": {},
   "outputs": [],
   "source": []
  },
  {
   "cell_type": "code",
   "execution_count": null,
   "metadata": {},
   "outputs": [],
   "source": []
  }
 ],
 "metadata": {
  "interpreter": {
   "hash": "3d597f4c481aa0f25dceb95d2a0067e73c0966dcbd003d741d821a7208527ecf"
  },
  "kernelspec": {
   "display_name": "Python 3.9.7 ('base')",
   "language": "python",
   "name": "python3"
  },
  "language_info": {
   "codemirror_mode": {
    "name": "ipython",
    "version": 3
   },
   "file_extension": ".py",
   "mimetype": "text/x-python",
   "name": "python",
   "nbconvert_exporter": "python",
   "pygments_lexer": "ipython3",
   "version": "3.9.7"
  },
  "orig_nbformat": 4
 },
 "nbformat": 4,
 "nbformat_minor": 2
}
