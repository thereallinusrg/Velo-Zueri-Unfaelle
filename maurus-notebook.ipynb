{
 "cells": [
  {
   "cell_type": "code",
   "execution_count": null,
   "metadata": {},
   "outputs": [],
   "source": [
    "from dateutil.parser import parse \n",
    "import matplotlib as mpl\n",
    "from matplotlib.pylab import rcParams\n",
    "\n",
    "import matplotlib.pyplot as plt\n",
    "import seaborn as sns\n",
    "import numpy as np\n",
    "import pandas as pd\n",
    "import geopandas as gpd"
   ]
  },
  {
   "cell_type": "code",
   "execution_count": null,
   "metadata": {},
   "outputs": [],
   "source": [
    "#Read data\n",
    "VerkehrsZaehlung = pd.read_csv(\"https://raw.githubusercontent.com/thereallinusrg/Velo-Zueri-Unfaelle/main/data/2021_verkehrszaehlungen_werte_fussgaenger_velo.csv\")\n",
    "#VeloWege = gpd.read_file(r'data/Velo_wege.gpkg')\n",
    "#Unfaelle = gpd.read_file(r'data/RoadTrafficAccidentLocations.gpkg')\n",
    "VerkehrsZaehlung.head()\n"
   ]
  },
  {
   "cell_type": "code",
   "execution_count": null,
   "metadata": {},
   "outputs": [],
   "source": [
    "def resample(df):\n",
    "  list_stations = df.FK_STANDORT.unique()\n",
    "  dataframes = []\n",
    "  for standort in list_stations:\n",
    "    station = df.loc[df[\"FK_STANDORT\"] == standort]\n",
    "    station[\"Date_Hour\"] = station[\"DATUM\"].astype(str).str[:13]\n",
    "    #station = station.set_index(pd.to_datetime(station['DATE_HOUR']))\n",
    "    grouped = station.groupby(\"Date_Hour\").agg({\"FK_STANDORT\": min, \"VELO_IN\": sum, \"VELO_OUT\": sum, \"OST\": min, \"NORD\": min})\n",
    "\n",
    "    #merged = pd.merge(new, station, on = \"DATUM\")\n",
    "    dataframes.append(grouped)\n",
    "  \n",
    "  combined = pd.concat(dataframes)\n",
    "\n",
    "  return combined\n",
    "\n",
    "Zaehlung_hourly = resample(VerkehrsZaehlung)\n",
    "Zaehlung_hourly.head(50)"
   ]
  },
  {
   "cell_type": "code",
   "execution_count": null,
   "metadata": {},
   "outputs": [],
   "source": [
    "def resample(df):\n",
    "  list_stations = df.FK_STANDORT.unique()\n",
    "  dataframes = []\n",
    "  for standort in list_stations:\n",
    "    station = df.loc[df[\"FK_STANDORT\"] == standort]\n",
    "    station[\"Date_Hour\"] = station[\"DATUM\"].astype(str).str[:13]\n",
    "    #station = station.set_index(pd.to_datetime(station['DATE_HOUR']))\n",
    "    grouped = station.groupby(\"Date_Hour\").agg({\"FK_STANDORT\": min, \"VELO_IN\": sum, \"VELO_OUT\": sum, \"OST\": min, \"NORD\": min})\n",
    "\n",
    "    #merged = pd.merge(new, station, on = \"DATUM\")\n",
    "    dataframes.append(grouped)\n",
    "  \n",
    "  combined = pd.concat(dataframes)\n",
    "\n",
    "  return combined\n",
    "\n",
    "Zaehlung_hourly = resample(VerkehrsZaehlung)\n",
    "Zaehlung_hourly.head()"
   ]
  },
  {
   "cell_type": "code",
   "execution_count": null,
   "metadata": {},
   "outputs": [],
   "source": [
    "Zaehlungen.plot()"
   ]
  }
 ],
 "metadata": {
  "language_info": {
   "name": "python"
  },
  "orig_nbformat": 4
 },
 "nbformat": 4,
 "nbformat_minor": 2
}
