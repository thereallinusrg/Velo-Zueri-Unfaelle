{
 "cells": [
  {
   "cell_type": "code",
   "execution_count": 2,
   "metadata": {},
   "outputs": [],
   "source": [
    "from dateutil.parser import parse \n",
    "import matplotlib as mpl\n",
    "from matplotlib.pylab import rcParams\n",
    "\n",
    "import matplotlib.pyplot as plt\n",
    "import seaborn as sns\n",
    "import numpy as np\n",
    "import pandas as pd\n",
    "import geopandas as gpd"
   ]
  },
  {
   "cell_type": "markdown",
   "metadata": {},
   "source": [
    "# Zählungen Preprocessing"
   ]
  },
  {
   "cell_type": "code",
   "execution_count": 49,
   "metadata": {},
   "outputs": [
    {
     "data": {
      "text/html": [
       "<div>\n",
       "<style scoped>\n",
       "    .dataframe tbody tr th:only-of-type {\n",
       "        vertical-align: middle;\n",
       "    }\n",
       "\n",
       "    .dataframe tbody tr th {\n",
       "        vertical-align: top;\n",
       "    }\n",
       "\n",
       "    .dataframe thead th {\n",
       "        text-align: right;\n",
       "    }\n",
       "</style>\n",
       "<table border=\"1\" class=\"dataframe\">\n",
       "  <thead>\n",
       "    <tr style=\"text-align: right;\">\n",
       "      <th></th>\n",
       "      <th>FK_ZAEHLER</th>\n",
       "      <th>FK_STANDORT</th>\n",
       "      <th>DATUM</th>\n",
       "      <th>VELO_IN</th>\n",
       "      <th>VELO_OUT</th>\n",
       "      <th>OST</th>\n",
       "      <th>NORD</th>\n",
       "      <th>Sum_Velos</th>\n",
       "    </tr>\n",
       "  </thead>\n",
       "  <tbody>\n",
       "    <tr>\n",
       "      <th>0</th>\n",
       "      <td>U15G3063865</td>\n",
       "      <td>1357</td>\n",
       "      <td>2021-01-01T00:00</td>\n",
       "      <td>NaN</td>\n",
       "      <td>NaN</td>\n",
       "      <td>2682973</td>\n",
       "      <td>1246329</td>\n",
       "      <td>NaN</td>\n",
       "    </tr>\n",
       "    <tr>\n",
       "      <th>1</th>\n",
       "      <td>ECO09113499</td>\n",
       "      <td>3927</td>\n",
       "      <td>2021-01-01T00:00</td>\n",
       "      <td>0.0</td>\n",
       "      <td>3.0</td>\n",
       "      <td>2682873</td>\n",
       "      <td>1245891</td>\n",
       "      <td>3.0</td>\n",
       "    </tr>\n",
       "    <tr>\n",
       "      <th>2</th>\n",
       "      <td>U15G3063867</td>\n",
       "      <td>1358</td>\n",
       "      <td>2021-01-01T00:00</td>\n",
       "      <td>NaN</td>\n",
       "      <td>NaN</td>\n",
       "      <td>2683557</td>\n",
       "      <td>1251702</td>\n",
       "      <td>NaN</td>\n",
       "    </tr>\n",
       "    <tr>\n",
       "      <th>3</th>\n",
       "      <td>U15G3063869</td>\n",
       "      <td>3011</td>\n",
       "      <td>2021-01-01T00:00</td>\n",
       "      <td>NaN</td>\n",
       "      <td>NaN</td>\n",
       "      <td>2682978</td>\n",
       "      <td>1248744</td>\n",
       "      <td>NaN</td>\n",
       "    </tr>\n",
       "    <tr>\n",
       "      <th>4</th>\n",
       "      <td>YSH18065716</td>\n",
       "      <td>3279</td>\n",
       "      <td>2021-01-01T00:00</td>\n",
       "      <td>NaN</td>\n",
       "      <td>NaN</td>\n",
       "      <td>2683437</td>\n",
       "      <td>1247199</td>\n",
       "      <td>NaN</td>\n",
       "    </tr>\n",
       "  </tbody>\n",
       "</table>\n",
       "</div>"
      ],
      "text/plain": [
       "    FK_ZAEHLER  FK_STANDORT             DATUM  VELO_IN  VELO_OUT      OST  \\\n",
       "0  U15G3063865         1357  2021-01-01T00:00      NaN       NaN  2682973   \n",
       "1  ECO09113499         3927  2021-01-01T00:00      0.0       3.0  2682873   \n",
       "2  U15G3063867         1358  2021-01-01T00:00      NaN       NaN  2683557   \n",
       "3  U15G3063869         3011  2021-01-01T00:00      NaN       NaN  2682978   \n",
       "4  YSH18065716         3279  2021-01-01T00:00      NaN       NaN  2683437   \n",
       "\n",
       "      NORD  Sum_Velos  \n",
       "0  1246329        NaN  \n",
       "1  1245891        3.0  \n",
       "2  1251702        NaN  \n",
       "3  1248744        NaN  \n",
       "4  1247199        NaN  "
      ]
     },
     "execution_count": 49,
     "metadata": {},
     "output_type": "execute_result"
    }
   ],
   "source": [
    "VerkehrsZaehlung = pd.read_csv(\"https://raw.githubusercontent.com/thereallinusrg/Velo-Zueri-Unfaelle/main/data/2021_verkehrszaehlungen_werte_fussgaenger_velo.csv\")\n",
    "\n",
    "#VeloWege = gpd.read_file(r'data/Velo_wege.gpkg')\n",
    "#Unfaelle = gpd.read_file(r'data/RoadTrafficAccidentLocations.gpkg')\n",
    "VerkehrsZaehlung = VerkehrsZaehlung.drop([\"FUSS_OUT\", \"FUSS_IN\"], axis = 1)\n",
    "VerkehrsZaehlung['Sum_Velos'] = VerkehrsZaehlung['VELO_IN'] + VerkehrsZaehlung['VELO_OUT']\n",
    "VerkehrsZaehlung.head()\n"
   ]
  },
  {
   "cell_type": "code",
   "execution_count": 46,
   "metadata": {},
   "outputs": [
    {
     "name": "stderr",
     "output_type": "stream",
     "text": [
      "/opt/miniconda3/lib/python3.9/site-packages/geopandas/geodataframe.py:600: RuntimeWarning: Sequential read of iterator was interrupted. Resetting iterator. This can negatively impact the performance.\n",
      "  for feature in features_lst:\n"
     ]
    }
   ],
   "source": [
    "VeloWege = gpd.read_file(r'data/Velo_wege.gpkg')\n"
   ]
  },
  {
   "cell_type": "code",
   "execution_count": 47,
   "metadata": {},
   "outputs": [
    {
     "data": {
      "text/html": [
       "<div>\n",
       "<style scoped>\n",
       "    .dataframe tbody tr th:only-of-type {\n",
       "        vertical-align: middle;\n",
       "    }\n",
       "\n",
       "    .dataframe tbody tr th {\n",
       "        vertical-align: top;\n",
       "    }\n",
       "\n",
       "    .dataframe thead th {\n",
       "        text-align: right;\n",
       "    }\n",
       "</style>\n",
       "<table border=\"1\" class=\"dataframe\">\n",
       "  <thead>\n",
       "    <tr style=\"text-align: right;\">\n",
       "      <th></th>\n",
       "      <th>id1</th>\n",
       "      <th>velo</th>\n",
       "      <th>velostreifen</th>\n",
       "      <th>veloweg</th>\n",
       "      <th>einbahn</th>\n",
       "      <th>fuss</th>\n",
       "      <th>name</th>\n",
       "      <th>map_velo</th>\n",
       "      <th>map_fuss</th>\n",
       "      <th>se_anno_cad_data</th>\n",
       "      <th>objectid</th>\n",
       "      <th>geometry</th>\n",
       "    </tr>\n",
       "  </thead>\n",
       "  <tbody>\n",
       "    <tr>\n",
       "      <th>0</th>\n",
       "      <td>137</td>\n",
       "      <td>0</td>\n",
       "      <td>0</td>\n",
       "      <td>0</td>\n",
       "      <td>0</td>\n",
       "      <td>1</td>\n",
       "      <td>Bahnhof Oerlikon, Perron Gleis 6</td>\n",
       "      <td>0</td>\n",
       "      <td>0</td>\n",
       "      <td>b''</td>\n",
       "      <td>1.0</td>\n",
       "      <td>LINESTRING (2683427.088 1251829.395, 2683455.0...</td>\n",
       "    </tr>\n",
       "    <tr>\n",
       "      <th>1</th>\n",
       "      <td>138</td>\n",
       "      <td>0</td>\n",
       "      <td>0</td>\n",
       "      <td>0</td>\n",
       "      <td>0</td>\n",
       "      <td>0</td>\n",
       "      <td>Bahnhofstrasse</td>\n",
       "      <td>0</td>\n",
       "      <td>0</td>\n",
       "      <td>b''</td>\n",
       "      <td>2.0</td>\n",
       "      <td>LINESTRING (2683164.177 1247919.613, 2683164.9...</td>\n",
       "    </tr>\n",
       "    <tr>\n",
       "      <th>2</th>\n",
       "      <td>139</td>\n",
       "      <td>1</td>\n",
       "      <td>0</td>\n",
       "      <td>0</td>\n",
       "      <td>0</td>\n",
       "      <td>0</td>\n",
       "      <td>Zwischenbächen</td>\n",
       "      <td>1</td>\n",
       "      <td>0</td>\n",
       "      <td>b''</td>\n",
       "      <td>3.0</td>\n",
       "      <td>LINESTRING (2678697.201 1248708.631, 2678677.6...</td>\n",
       "    </tr>\n",
       "    <tr>\n",
       "      <th>3</th>\n",
       "      <td>140</td>\n",
       "      <td>1</td>\n",
       "      <td>0</td>\n",
       "      <td>0</td>\n",
       "      <td>0</td>\n",
       "      <td>0</td>\n",
       "      <td>Schanzackerstrasse</td>\n",
       "      <td>0</td>\n",
       "      <td>0</td>\n",
       "      <td>b''</td>\n",
       "      <td>4.0</td>\n",
       "      <td>LINESTRING (2683703.923 1249404.521, 2683724.4...</td>\n",
       "    </tr>\n",
       "    <tr>\n",
       "      <th>4</th>\n",
       "      <td>141</td>\n",
       "      <td>0</td>\n",
       "      <td>0</td>\n",
       "      <td>0</td>\n",
       "      <td>0</td>\n",
       "      <td>1</td>\n",
       "      <td>Rotbuchstrasse Überquerung</td>\n",
       "      <td>0</td>\n",
       "      <td>0</td>\n",
       "      <td>b''</td>\n",
       "      <td>5.0</td>\n",
       "      <td>LINESTRING (2682958.376 1249518.871, 2682958.2...</td>\n",
       "    </tr>\n",
       "  </tbody>\n",
       "</table>\n",
       "</div>"
      ],
      "text/plain": [
       "   id1  velo velostreifen  veloweg einbahn  fuss  \\\n",
       "0  137     0            0        0       0     1   \n",
       "1  138     0            0        0       0     0   \n",
       "2  139     1            0        0       0     0   \n",
       "3  140     1            0        0       0     0   \n",
       "4  141     0            0        0       0     1   \n",
       "\n",
       "                               name  map_velo  map_fuss se_anno_cad_data  \\\n",
       "0  Bahnhof Oerlikon, Perron Gleis 6         0         0              b''   \n",
       "1                    Bahnhofstrasse         0         0              b''   \n",
       "2                    Zwischenbächen         1         0              b''   \n",
       "3                Schanzackerstrasse         0         0              b''   \n",
       "4        Rotbuchstrasse Überquerung         0         0              b''   \n",
       "\n",
       "   objectid                                           geometry  \n",
       "0       1.0  LINESTRING (2683427.088 1251829.395, 2683455.0...  \n",
       "1       2.0  LINESTRING (2683164.177 1247919.613, 2683164.9...  \n",
       "2       3.0  LINESTRING (2678697.201 1248708.631, 2678677.6...  \n",
       "3       4.0  LINESTRING (2683703.923 1249404.521, 2683724.4...  \n",
       "4       5.0  LINESTRING (2682958.376 1249518.871, 2682958.2...  "
      ]
     },
     "execution_count": 47,
     "metadata": {},
     "output_type": "execute_result"
    }
   ],
   "source": [
    "VeloWege.head()"
   ]
  },
  {
   "cell_type": "code",
   "execution_count": 50,
   "metadata": {},
   "outputs": [
    {
     "name": "stdout",
     "output_type": "stream",
     "text": [
      "46\n",
      "(1178570, 8)\n"
     ]
    },
    {
     "data": {
      "text/plain": [
       "(600754, 8)"
      ]
     },
     "execution_count": 50,
     "metadata": {},
     "output_type": "execute_result"
    }
   ],
   "source": [
    "# Filter out Stations that did not count any bicycles\n",
    "\n",
    "list_stations = VerkehrsZaehlung.FK_STANDORT.unique()\n",
    "print(VerkehrsZaehlung.shape)\n",
    "\n",
    "for station in list_stations:\n",
    "    sum_Zaehlstation = VerkehrsZaehlung.loc[VerkehrsZaehlung[\"FK_STANDORT\"] == station, [\"Sum_Velos\"]].sum()\n",
    "    if sum_Zaehlstation[0] == 0:\n",
    "        VerkehrsZaehlung = VerkehrsZaehlung.drop(VerkehrsZaehlung[VerkehrsZaehlung[\"FK_STANDORT\"] == station].index)\n",
    "        #VerkehrsZaehlung.drop(index=station, columns='FK_STANDORT')\n",
    "        \n",
    "VerkehrsZaehlung.shape\n"
   ]
  },
  {
   "cell_type": "code",
   "execution_count": 56,
   "metadata": {},
   "outputs": [
    {
     "name": "stderr",
     "output_type": "stream",
     "text": [
      "/var/folders/m7/_3h_ct5n68b9x7svmxnmpq980000gn/T/ipykernel_3783/1346331583.py:6: SettingWithCopyWarning: \n",
      "A value is trying to be set on a copy of a slice from a DataFrame.\n",
      "Try using .loc[row_indexer,col_indexer] = value instead\n",
      "\n",
      "See the caveats in the documentation: https://pandas.pydata.org/pandas-docs/stable/user_guide/indexing.html#returning-a-view-versus-a-copy\n",
      "  station[\"Date_Hour\"] = station[\"DATUM\"].astype(str).str[:13]\n",
      "/var/folders/m7/_3h_ct5n68b9x7svmxnmpq980000gn/T/ipykernel_3783/1346331583.py:6: SettingWithCopyWarning: \n",
      "A value is trying to be set on a copy of a slice from a DataFrame.\n",
      "Try using .loc[row_indexer,col_indexer] = value instead\n",
      "\n",
      "See the caveats in the documentation: https://pandas.pydata.org/pandas-docs/stable/user_guide/indexing.html#returning-a-view-versus-a-copy\n",
      "  station[\"Date_Hour\"] = station[\"DATUM\"].astype(str).str[:13]\n",
      "/var/folders/m7/_3h_ct5n68b9x7svmxnmpq980000gn/T/ipykernel_3783/1346331583.py:6: SettingWithCopyWarning: \n",
      "A value is trying to be set on a copy of a slice from a DataFrame.\n",
      "Try using .loc[row_indexer,col_indexer] = value instead\n",
      "\n",
      "See the caveats in the documentation: https://pandas.pydata.org/pandas-docs/stable/user_guide/indexing.html#returning-a-view-versus-a-copy\n",
      "  station[\"Date_Hour\"] = station[\"DATUM\"].astype(str).str[:13]\n",
      "/var/folders/m7/_3h_ct5n68b9x7svmxnmpq980000gn/T/ipykernel_3783/1346331583.py:6: SettingWithCopyWarning: \n",
      "A value is trying to be set on a copy of a slice from a DataFrame.\n",
      "Try using .loc[row_indexer,col_indexer] = value instead\n",
      "\n",
      "See the caveats in the documentation: https://pandas.pydata.org/pandas-docs/stable/user_guide/indexing.html#returning-a-view-versus-a-copy\n",
      "  station[\"Date_Hour\"] = station[\"DATUM\"].astype(str).str[:13]\n",
      "/var/folders/m7/_3h_ct5n68b9x7svmxnmpq980000gn/T/ipykernel_3783/1346331583.py:6: SettingWithCopyWarning: \n",
      "A value is trying to be set on a copy of a slice from a DataFrame.\n",
      "Try using .loc[row_indexer,col_indexer] = value instead\n",
      "\n",
      "See the caveats in the documentation: https://pandas.pydata.org/pandas-docs/stable/user_guide/indexing.html#returning-a-view-versus-a-copy\n",
      "  station[\"Date_Hour\"] = station[\"DATUM\"].astype(str).str[:13]\n",
      "/var/folders/m7/_3h_ct5n68b9x7svmxnmpq980000gn/T/ipykernel_3783/1346331583.py:6: SettingWithCopyWarning: \n",
      "A value is trying to be set on a copy of a slice from a DataFrame.\n",
      "Try using .loc[row_indexer,col_indexer] = value instead\n",
      "\n",
      "See the caveats in the documentation: https://pandas.pydata.org/pandas-docs/stable/user_guide/indexing.html#returning-a-view-versus-a-copy\n",
      "  station[\"Date_Hour\"] = station[\"DATUM\"].astype(str).str[:13]\n",
      "/var/folders/m7/_3h_ct5n68b9x7svmxnmpq980000gn/T/ipykernel_3783/1346331583.py:6: SettingWithCopyWarning: \n",
      "A value is trying to be set on a copy of a slice from a DataFrame.\n",
      "Try using .loc[row_indexer,col_indexer] = value instead\n",
      "\n",
      "See the caveats in the documentation: https://pandas.pydata.org/pandas-docs/stable/user_guide/indexing.html#returning-a-view-versus-a-copy\n",
      "  station[\"Date_Hour\"] = station[\"DATUM\"].astype(str).str[:13]\n",
      "/var/folders/m7/_3h_ct5n68b9x7svmxnmpq980000gn/T/ipykernel_3783/1346331583.py:6: SettingWithCopyWarning: \n",
      "A value is trying to be set on a copy of a slice from a DataFrame.\n",
      "Try using .loc[row_indexer,col_indexer] = value instead\n",
      "\n",
      "See the caveats in the documentation: https://pandas.pydata.org/pandas-docs/stable/user_guide/indexing.html#returning-a-view-versus-a-copy\n",
      "  station[\"Date_Hour\"] = station[\"DATUM\"].astype(str).str[:13]\n",
      "/var/folders/m7/_3h_ct5n68b9x7svmxnmpq980000gn/T/ipykernel_3783/1346331583.py:6: SettingWithCopyWarning: \n",
      "A value is trying to be set on a copy of a slice from a DataFrame.\n",
      "Try using .loc[row_indexer,col_indexer] = value instead\n",
      "\n",
      "See the caveats in the documentation: https://pandas.pydata.org/pandas-docs/stable/user_guide/indexing.html#returning-a-view-versus-a-copy\n",
      "  station[\"Date_Hour\"] = station[\"DATUM\"].astype(str).str[:13]\n",
      "/var/folders/m7/_3h_ct5n68b9x7svmxnmpq980000gn/T/ipykernel_3783/1346331583.py:6: SettingWithCopyWarning: \n",
      "A value is trying to be set on a copy of a slice from a DataFrame.\n",
      "Try using .loc[row_indexer,col_indexer] = value instead\n",
      "\n",
      "See the caveats in the documentation: https://pandas.pydata.org/pandas-docs/stable/user_guide/indexing.html#returning-a-view-versus-a-copy\n",
      "  station[\"Date_Hour\"] = station[\"DATUM\"].astype(str).str[:13]\n",
      "/var/folders/m7/_3h_ct5n68b9x7svmxnmpq980000gn/T/ipykernel_3783/1346331583.py:6: SettingWithCopyWarning: \n",
      "A value is trying to be set on a copy of a slice from a DataFrame.\n",
      "Try using .loc[row_indexer,col_indexer] = value instead\n",
      "\n",
      "See the caveats in the documentation: https://pandas.pydata.org/pandas-docs/stable/user_guide/indexing.html#returning-a-view-versus-a-copy\n",
      "  station[\"Date_Hour\"] = station[\"DATUM\"].astype(str).str[:13]\n",
      "/var/folders/m7/_3h_ct5n68b9x7svmxnmpq980000gn/T/ipykernel_3783/1346331583.py:6: SettingWithCopyWarning: \n",
      "A value is trying to be set on a copy of a slice from a DataFrame.\n",
      "Try using .loc[row_indexer,col_indexer] = value instead\n",
      "\n",
      "See the caveats in the documentation: https://pandas.pydata.org/pandas-docs/stable/user_guide/indexing.html#returning-a-view-versus-a-copy\n",
      "  station[\"Date_Hour\"] = station[\"DATUM\"].astype(str).str[:13]\n",
      "/var/folders/m7/_3h_ct5n68b9x7svmxnmpq980000gn/T/ipykernel_3783/1346331583.py:6: SettingWithCopyWarning: \n",
      "A value is trying to be set on a copy of a slice from a DataFrame.\n",
      "Try using .loc[row_indexer,col_indexer] = value instead\n",
      "\n",
      "See the caveats in the documentation: https://pandas.pydata.org/pandas-docs/stable/user_guide/indexing.html#returning-a-view-versus-a-copy\n",
      "  station[\"Date_Hour\"] = station[\"DATUM\"].astype(str).str[:13]\n",
      "/var/folders/m7/_3h_ct5n68b9x7svmxnmpq980000gn/T/ipykernel_3783/1346331583.py:6: SettingWithCopyWarning: \n",
      "A value is trying to be set on a copy of a slice from a DataFrame.\n",
      "Try using .loc[row_indexer,col_indexer] = value instead\n",
      "\n",
      "See the caveats in the documentation: https://pandas.pydata.org/pandas-docs/stable/user_guide/indexing.html#returning-a-view-versus-a-copy\n",
      "  station[\"Date_Hour\"] = station[\"DATUM\"].astype(str).str[:13]\n",
      "/var/folders/m7/_3h_ct5n68b9x7svmxnmpq980000gn/T/ipykernel_3783/1346331583.py:6: SettingWithCopyWarning: \n",
      "A value is trying to be set on a copy of a slice from a DataFrame.\n",
      "Try using .loc[row_indexer,col_indexer] = value instead\n",
      "\n",
      "See the caveats in the documentation: https://pandas.pydata.org/pandas-docs/stable/user_guide/indexing.html#returning-a-view-versus-a-copy\n",
      "  station[\"Date_Hour\"] = station[\"DATUM\"].astype(str).str[:13]\n",
      "/var/folders/m7/_3h_ct5n68b9x7svmxnmpq980000gn/T/ipykernel_3783/1346331583.py:6: SettingWithCopyWarning: \n",
      "A value is trying to be set on a copy of a slice from a DataFrame.\n",
      "Try using .loc[row_indexer,col_indexer] = value instead\n",
      "\n",
      "See the caveats in the documentation: https://pandas.pydata.org/pandas-docs/stable/user_guide/indexing.html#returning-a-view-versus-a-copy\n",
      "  station[\"Date_Hour\"] = station[\"DATUM\"].astype(str).str[:13]\n",
      "/var/folders/m7/_3h_ct5n68b9x7svmxnmpq980000gn/T/ipykernel_3783/1346331583.py:6: SettingWithCopyWarning: \n",
      "A value is trying to be set on a copy of a slice from a DataFrame.\n",
      "Try using .loc[row_indexer,col_indexer] = value instead\n",
      "\n",
      "See the caveats in the documentation: https://pandas.pydata.org/pandas-docs/stable/user_guide/indexing.html#returning-a-view-versus-a-copy\n",
      "  station[\"Date_Hour\"] = station[\"DATUM\"].astype(str).str[:13]\n",
      "/var/folders/m7/_3h_ct5n68b9x7svmxnmpq980000gn/T/ipykernel_3783/1346331583.py:6: SettingWithCopyWarning: \n",
      "A value is trying to be set on a copy of a slice from a DataFrame.\n",
      "Try using .loc[row_indexer,col_indexer] = value instead\n",
      "\n",
      "See the caveats in the documentation: https://pandas.pydata.org/pandas-docs/stable/user_guide/indexing.html#returning-a-view-versus-a-copy\n",
      "  station[\"Date_Hour\"] = station[\"DATUM\"].astype(str).str[:13]\n",
      "/var/folders/m7/_3h_ct5n68b9x7svmxnmpq980000gn/T/ipykernel_3783/1346331583.py:6: SettingWithCopyWarning: \n",
      "A value is trying to be set on a copy of a slice from a DataFrame.\n",
      "Try using .loc[row_indexer,col_indexer] = value instead\n",
      "\n",
      "See the caveats in the documentation: https://pandas.pydata.org/pandas-docs/stable/user_guide/indexing.html#returning-a-view-versus-a-copy\n",
      "  station[\"Date_Hour\"] = station[\"DATUM\"].astype(str).str[:13]\n",
      "/var/folders/m7/_3h_ct5n68b9x7svmxnmpq980000gn/T/ipykernel_3783/1346331583.py:6: SettingWithCopyWarning: \n",
      "A value is trying to be set on a copy of a slice from a DataFrame.\n",
      "Try using .loc[row_indexer,col_indexer] = value instead\n",
      "\n",
      "See the caveats in the documentation: https://pandas.pydata.org/pandas-docs/stable/user_guide/indexing.html#returning-a-view-versus-a-copy\n",
      "  station[\"Date_Hour\"] = station[\"DATUM\"].astype(str).str[:13]\n",
      "/var/folders/m7/_3h_ct5n68b9x7svmxnmpq980000gn/T/ipykernel_3783/1346331583.py:6: SettingWithCopyWarning: \n",
      "A value is trying to be set on a copy of a slice from a DataFrame.\n",
      "Try using .loc[row_indexer,col_indexer] = value instead\n",
      "\n",
      "See the caveats in the documentation: https://pandas.pydata.org/pandas-docs/stable/user_guide/indexing.html#returning-a-view-versus-a-copy\n",
      "  station[\"Date_Hour\"] = station[\"DATUM\"].astype(str).str[:13]\n",
      "/var/folders/m7/_3h_ct5n68b9x7svmxnmpq980000gn/T/ipykernel_3783/1346331583.py:6: SettingWithCopyWarning: \n",
      "A value is trying to be set on a copy of a slice from a DataFrame.\n",
      "Try using .loc[row_indexer,col_indexer] = value instead\n",
      "\n",
      "See the caveats in the documentation: https://pandas.pydata.org/pandas-docs/stable/user_guide/indexing.html#returning-a-view-versus-a-copy\n",
      "  station[\"Date_Hour\"] = station[\"DATUM\"].astype(str).str[:13]\n"
     ]
    },
    {
     "data": {
      "text/html": [
       "<div>\n",
       "<style scoped>\n",
       "    .dataframe tbody tr th:only-of-type {\n",
       "        vertical-align: middle;\n",
       "    }\n",
       "\n",
       "    .dataframe tbody tr th {\n",
       "        vertical-align: top;\n",
       "    }\n",
       "\n",
       "    .dataframe thead th {\n",
       "        text-align: right;\n",
       "    }\n",
       "</style>\n",
       "<table border=\"1\" class=\"dataframe\">\n",
       "  <thead>\n",
       "    <tr style=\"text-align: right;\">\n",
       "      <th></th>\n",
       "      <th>FK_STANDORT</th>\n",
       "      <th>VELO_IN</th>\n",
       "      <th>VELO_OUT</th>\n",
       "      <th>Sum_Velos</th>\n",
       "      <th>OST</th>\n",
       "      <th>NORD</th>\n",
       "    </tr>\n",
       "    <tr>\n",
       "      <th>Date_Hour</th>\n",
       "      <th></th>\n",
       "      <th></th>\n",
       "      <th></th>\n",
       "      <th></th>\n",
       "      <th></th>\n",
       "      <th></th>\n",
       "    </tr>\n",
       "  </thead>\n",
       "  <tbody>\n",
       "    <tr>\n",
       "      <th>2021-01-01T00</th>\n",
       "      <td>3927</td>\n",
       "      <td>2.0</td>\n",
       "      <td>5.0</td>\n",
       "      <td>7.0</td>\n",
       "      <td>2682873</td>\n",
       "      <td>1245891</td>\n",
       "    </tr>\n",
       "    <tr>\n",
       "      <th>2021-01-01T01</th>\n",
       "      <td>3927</td>\n",
       "      <td>3.0</td>\n",
       "      <td>5.0</td>\n",
       "      <td>8.0</td>\n",
       "      <td>2682873</td>\n",
       "      <td>1245891</td>\n",
       "    </tr>\n",
       "    <tr>\n",
       "      <th>2021-01-01T02</th>\n",
       "      <td>3927</td>\n",
       "      <td>4.0</td>\n",
       "      <td>1.0</td>\n",
       "      <td>5.0</td>\n",
       "      <td>2682873</td>\n",
       "      <td>1245891</td>\n",
       "    </tr>\n",
       "    <tr>\n",
       "      <th>2021-01-01T03</th>\n",
       "      <td>3927</td>\n",
       "      <td>2.0</td>\n",
       "      <td>8.0</td>\n",
       "      <td>10.0</td>\n",
       "      <td>2682873</td>\n",
       "      <td>1245891</td>\n",
       "    </tr>\n",
       "    <tr>\n",
       "      <th>2021-01-01T04</th>\n",
       "      <td>3927</td>\n",
       "      <td>3.0</td>\n",
       "      <td>1.0</td>\n",
       "      <td>4.0</td>\n",
       "      <td>2682873</td>\n",
       "      <td>1245891</td>\n",
       "    </tr>\n",
       "  </tbody>\n",
       "</table>\n",
       "</div>"
      ],
      "text/plain": [
       "               FK_STANDORT  VELO_IN  VELO_OUT  Sum_Velos      OST     NORD\n",
       "Date_Hour                                                                 \n",
       "2021-01-01T00         3927      2.0       5.0        7.0  2682873  1245891\n",
       "2021-01-01T01         3927      3.0       5.0        8.0  2682873  1245891\n",
       "2021-01-01T02         3927      4.0       1.0        5.0  2682873  1245891\n",
       "2021-01-01T03         3927      2.0       8.0       10.0  2682873  1245891\n",
       "2021-01-01T04         3927      3.0       1.0        4.0  2682873  1245891"
      ]
     },
     "execution_count": 56,
     "metadata": {},
     "output_type": "execute_result"
    }
   ],
   "source": [
    "def resample(df):\n",
    "  list_stations = df.FK_STANDORT.unique()\n",
    "  dataframes = []\n",
    "  for standort in list_stations:\n",
    "    station = df.loc[df[\"FK_STANDORT\"] == standort]\n",
    "    station[\"Date_Hour\"] = station[\"DATUM\"].astype(str).str[:13]\n",
    "    #station = station.set_index(pd.to_datetime(station['DATE_HOUR']))\n",
    "    grouped = station.groupby(\"Date_Hour\").agg({\"FK_STANDORT\": min, \"VELO_IN\": sum, \"VELO_OUT\": sum, \"Sum_Velos\": sum, \"OST\": min, \"NORD\": min})\n",
    "\n",
    "    #merged = pd.merge(new, station, on = \"DATUM\")\n",
    "    dataframes.append(grouped)\n",
    "  \n",
    "  combined = pd.concat(dataframes)\n",
    "\n",
    "  return combined\n",
    "\n",
    "Zaehlung_hourly = resample(VerkehrsZaehlung)\n",
    "Zaehlung_hourly.head()"
   ]
  },
  {
   "cell_type": "code",
   "execution_count": 57,
   "metadata": {},
   "outputs": [],
   "source": [
    "# Turn it into a GeoDataFrame with point geometries\n",
    "Zaehlungen = gpd.GeoDataFrame(\n",
    "    Zaehlung_hourly, geometry=gpd.points_from_xy(Zaehlung_hourly.OST, Zaehlung_hourly.NORD))"
   ]
  },
  {
   "cell_type": "code",
   "execution_count": 17,
   "metadata": {},
   "outputs": [
    {
     "data": {
      "text/plain": [
       "<AxesSubplot:>"
      ]
     },
     "execution_count": 17,
     "metadata": {},
     "output_type": "execute_result"
    },
    {
     "data": {
      "image/png": "[encoded data removed]",
      "text/plain": [
       "<Figure size 432x288 with 1 Axes>"
      ]
     },
     "metadata": {
      "needs_background": "light"
     },
     "output_type": "display_data"
    }
   ],
   "source": [
    "Zaehlungen.plot()"
   ]
  },
  {
   "cell_type": "markdown",
   "metadata": {},
   "source": [
    "## Normalization"
   ]
  },
  {
   "cell_type": "code",
   "execution_count": 18,
   "metadata": {},
   "outputs": [],
   "source": [
    "# Export file, so Voronoi_Tesselation can be done in QGIS. There, all accidents \n",
    "# are related to the closests Counting Station.\n",
    "Zaehlungen.to_file('Zaehlungen_test.gpkg', driver='GPKG', layer='Zaehlungen')  \n"
   ]
  },
  {
   "cell_type": "code",
   "execution_count": 53,
   "metadata": {},
   "outputs": [
    {
     "name": "stderr",
     "output_type": "stream",
     "text": [
      "/opt/miniconda3/lib/python3.9/site-packages/geopandas/geodataframe.py:600: RuntimeWarning: Sequential read of iterator was interrupted. Resetting iterator. This can negatively impact the performance.\n",
      "  for feature in features_lst:\n"
     ]
    }
   ],
   "source": [
    "Accidents_Zaehlstation = gpd.read_file(\"/Users/HF/Library/Mobile Documents/com~apple~CloudDocs/Data Sciene_Grossi Dateie/Accidents_Zaehlstation_GDF.gpkg\")\n",
    "Accidents_Zaehlstation_refined = Accidents_Zaehlstation[[\"AccidentUID\", \"AccidentSeverityCategory\", \"AccidentSeverityCategory_de\", \"geometry\", \"FK_STANDORT\"]]\n",
    "\n"
   ]
  },
  {
   "cell_type": "code",
   "execution_count": 54,
   "metadata": {},
   "outputs": [
    {
     "data": {
      "text/plain": [
       "<AxesSubplot:>"
      ]
     },
     "execution_count": 54,
     "metadata": {},
     "output_type": "execute_result"
    },
    {
     "data": {
      "image/png": "[encoded data removed]",
      "text/plain": [
       "<Figure size 432x288 with 1 Axes>"
      ]
     },
     "metadata": {
      "needs_background": "light"
     },
     "output_type": "display_data"
    }
   ],
   "source": [
    "Accidents_Zaehlstation_refined.plot(column='FK_STANDORT', cmap='viridis')"
   ]
  },
  {
   "cell_type": "code",
   "execution_count": 58,
   "metadata": {},
   "outputs": [
    {
     "name": "stdout",
     "output_type": "stream",
     "text": [
      "8000583.0\n"
     ]
    }
   ],
   "source": [
    "sum_all = Zaehlungen[\"Sum_Velos\"].sum()\n",
    "print(sum_all)"
   ]
  },
  {
   "cell_type": "code",
   "execution_count": 59,
   "metadata": {},
   "outputs": [],
   "source": [
    "list_polygons = Zaehlungen.FK_STANDORT.unique()\n",
    "Zaehlstation_sum = {}\n",
    "for Zaehlstation in list_polygons:\n",
    "    sum_Zaehlstation = Zaehlungen.loc[Zaehlungen[\"FK_STANDORT\"] == Zaehlstation, [\"Sum_Velos\"]].sum()\n",
    "    Zaehlstation_sum[Zaehlstation] = sum_Zaehlstation / sum_all\n",
    "\n"
   ]
  },
  {
   "cell_type": "code",
   "execution_count": 61,
   "metadata": {},
   "outputs": [
    {
     "data": {
      "text/html": [
       "<div>\n",
       "<style scoped>\n",
       "    .dataframe tbody tr th:only-of-type {\n",
       "        vertical-align: middle;\n",
       "    }\n",
       "\n",
       "    .dataframe tbody tr th {\n",
       "        vertical-align: top;\n",
       "    }\n",
       "\n",
       "    .dataframe thead th {\n",
       "        text-align: right;\n",
       "    }\n",
       "</style>\n",
       "<table border=\"1\" class=\"dataframe\">\n",
       "  <thead>\n",
       "    <tr style=\"text-align: right;\">\n",
       "      <th></th>\n",
       "      <th>AccidentUID</th>\n",
       "      <th>AccidentSeverityCategory</th>\n",
       "      <th>AccidentSeverityCategory_de</th>\n",
       "      <th>geometry</th>\n",
       "      <th>FK_STANDORT</th>\n",
       "    </tr>\n",
       "  </thead>\n",
       "  <tbody>\n",
       "    <tr>\n",
       "      <th>0</th>\n",
       "      <td>67477AA5F6FD0150E0530A83942738F2</td>\n",
       "      <td>as4</td>\n",
       "      <td>Unfall mit Sachschaden</td>\n",
       "      <td>POINT (2680349.000 1241844.000)</td>\n",
       "      <td>3927.0</td>\n",
       "    </tr>\n",
       "    <tr>\n",
       "      <th>1</th>\n",
       "      <td>B912F88A7E7801F4E0430A83942701F4</td>\n",
       "      <td>as4</td>\n",
       "      <td>Unfall mit Sachschaden</td>\n",
       "      <td>POINT (2680551.000 1241911.000)</td>\n",
       "      <td>3927.0</td>\n",
       "    </tr>\n",
       "    <tr>\n",
       "      <th>2</th>\n",
       "      <td>0BF777D8279E0094E0530A8394274FF8</td>\n",
       "      <td>as4</td>\n",
       "      <td>Unfall mit Sachschaden</td>\n",
       "      <td>POINT (2680598.000 1242101.000)</td>\n",
       "      <td>3927.0</td>\n",
       "    </tr>\n",
       "    <tr>\n",
       "      <th>3</th>\n",
       "      <td>1799AF1F0C04010CE0530A8394277DC6</td>\n",
       "      <td>as4</td>\n",
       "      <td>Unfall mit Sachschaden</td>\n",
       "      <td>POINT (2680786.000 1242093.000)</td>\n",
       "      <td>3927.0</td>\n",
       "    </tr>\n",
       "    <tr>\n",
       "      <th>4</th>\n",
       "      <td>E8C4E50BC72A0102E0430A839427DC23</td>\n",
       "      <td>as4</td>\n",
       "      <td>Unfall mit Sachschaden</td>\n",
       "      <td>POINT (2680980.000 1242076.000)</td>\n",
       "      <td>3927.0</td>\n",
       "    </tr>\n",
       "  </tbody>\n",
       "</table>\n",
       "</div>"
      ],
      "text/plain": [
       "                        AccidentUID AccidentSeverityCategory  \\\n",
       "0  67477AA5F6FD0150E0530A83942738F2                      as4   \n",
       "1  B912F88A7E7801F4E0430A83942701F4                      as4   \n",
       "2  0BF777D8279E0094E0530A8394274FF8                      as4   \n",
       "3  1799AF1F0C04010CE0530A8394277DC6                      as4   \n",
       "4  E8C4E50BC72A0102E0430A839427DC23                      as4   \n",
       "\n",
       "  AccidentSeverityCategory_de                         geometry  FK_STANDORT  \n",
       "0      Unfall mit Sachschaden  POINT (2680349.000 1241844.000)       3927.0  \n",
       "1      Unfall mit Sachschaden  POINT (2680551.000 1241911.000)       3927.0  \n",
       "2      Unfall mit Sachschaden  POINT (2680598.000 1242101.000)       3927.0  \n",
       "3      Unfall mit Sachschaden  POINT (2680786.000 1242093.000)       3927.0  \n",
       "4      Unfall mit Sachschaden  POINT (2680980.000 1242076.000)       3927.0  "
      ]
     },
     "execution_count": 61,
     "metadata": {},
     "output_type": "execute_result"
    }
   ],
   "source": [
    "Accidents_Zaehlstation_refined.head()"
   ]
  },
  {
   "cell_type": "code",
   "execution_count": 62,
   "metadata": {},
   "outputs": [
    {
     "name": "stdout",
     "output_type": "stream",
     "text": [
      "0.06783668140184285\n",
      "0.01765333851295587\n",
      "0.04209480734091503\n",
      "0.035434667698591465\n",
      "0.05638914064137576\n",
      "0.02510679534228943\n",
      "0.0739289874250414\n",
      "0.01562648621981673\n",
      "0.027373255174029193\n",
      "0.04651573516579979\n",
      "0.02614321981285614\n",
      "0.02597873179992008\n",
      "0.03264124626917814\n",
      "0.1697910014807671\n",
      "0.00489189350326095\n",
      "0.0006103305221631973\n",
      "0.08829194072481968\n",
      "0.0476948992342183\n",
      "0.11632477283217986\n",
      "0.054175676947542446\n",
      "0.012889685664157224\n",
      "0.012606706286279388\n"
     ]
    },
    {
     "name": "stderr",
     "output_type": "stream",
     "text": [
      "/opt/miniconda3/lib/python3.9/site-packages/geopandas/geodataframe.py:1351: SettingWithCopyWarning: \n",
      "A value is trying to be set on a copy of a slice from a DataFrame.\n",
      "Try using .loc[row_indexer,col_indexer] = value instead\n",
      "\n",
      "See the caveats in the documentation: https://pandas.pydata.org/pandas-docs/stable/user_guide/indexing.html#returning-a-view-versus-a-copy\n",
      "  super().__setitem__(key, value)\n"
     ]
    }
   ],
   "source": [
    "Accidents_Zaehlstation_refined[\"Weight\"] = \"\"\n",
    "for Zaehlstation in list_polygons:\n",
    "    Accidents_Zaehlstation_refined.loc[(Accidents_Zaehlstation_refined[\"FK_STANDORT\"] == Zaehlstation),'Weight'] = Zaehlstation_sum[Zaehlstation][0]\n",
    "    print(Zaehlstation_sum[Zaehlstation][0])"
   ]
  },
  {
   "cell_type": "code",
   "execution_count": 64,
   "metadata": {},
   "outputs": [
    {
     "data": {
      "text/html": [
       "<div>\n",
       "<style scoped>\n",
       "    .dataframe tbody tr th:only-of-type {\n",
       "        vertical-align: middle;\n",
       "    }\n",
       "\n",
       "    .dataframe tbody tr th {\n",
       "        vertical-align: top;\n",
       "    }\n",
       "\n",
       "    .dataframe thead th {\n",
       "        text-align: right;\n",
       "    }\n",
       "</style>\n",
       "<table border=\"1\" class=\"dataframe\">\n",
       "  <thead>\n",
       "    <tr style=\"text-align: right;\">\n",
       "      <th></th>\n",
       "      <th>AccidentUID</th>\n",
       "      <th>AccidentSeverityCategory</th>\n",
       "      <th>AccidentSeverityCategory_de</th>\n",
       "      <th>geometry</th>\n",
       "      <th>FK_STANDORT</th>\n",
       "      <th>Weight</th>\n",
       "    </tr>\n",
       "  </thead>\n",
       "  <tbody>\n",
       "    <tr>\n",
       "      <th>0</th>\n",
       "      <td>67477AA5F6FD0150E0530A83942738F2</td>\n",
       "      <td>as4</td>\n",
       "      <td>Unfall mit Sachschaden</td>\n",
       "      <td>POINT (2680349.000 1241844.000)</td>\n",
       "      <td>3927.0</td>\n",
       "      <td>0.067837</td>\n",
       "    </tr>\n",
       "    <tr>\n",
       "      <th>1</th>\n",
       "      <td>B912F88A7E7801F4E0430A83942701F4</td>\n",
       "      <td>as4</td>\n",
       "      <td>Unfall mit Sachschaden</td>\n",
       "      <td>POINT (2680551.000 1241911.000)</td>\n",
       "      <td>3927.0</td>\n",
       "      <td>0.067837</td>\n",
       "    </tr>\n",
       "    <tr>\n",
       "      <th>2</th>\n",
       "      <td>0BF777D8279E0094E0530A8394274FF8</td>\n",
       "      <td>as4</td>\n",
       "      <td>Unfall mit Sachschaden</td>\n",
       "      <td>POINT (2680598.000 1242101.000)</td>\n",
       "      <td>3927.0</td>\n",
       "      <td>0.067837</td>\n",
       "    </tr>\n",
       "    <tr>\n",
       "      <th>3</th>\n",
       "      <td>1799AF1F0C04010CE0530A8394277DC6</td>\n",
       "      <td>as4</td>\n",
       "      <td>Unfall mit Sachschaden</td>\n",
       "      <td>POINT (2680786.000 1242093.000)</td>\n",
       "      <td>3927.0</td>\n",
       "      <td>0.067837</td>\n",
       "    </tr>\n",
       "    <tr>\n",
       "      <th>4</th>\n",
       "      <td>E8C4E50BC72A0102E0430A839427DC23</td>\n",
       "      <td>as4</td>\n",
       "      <td>Unfall mit Sachschaden</td>\n",
       "      <td>POINT (2680980.000 1242076.000)</td>\n",
       "      <td>3927.0</td>\n",
       "      <td>0.067837</td>\n",
       "    </tr>\n",
       "  </tbody>\n",
       "</table>\n",
       "</div>"
      ],
      "text/plain": [
       "                        AccidentUID AccidentSeverityCategory  \\\n",
       "0  67477AA5F6FD0150E0530A83942738F2                      as4   \n",
       "1  B912F88A7E7801F4E0430A83942701F4                      as4   \n",
       "2  0BF777D8279E0094E0530A8394274FF8                      as4   \n",
       "3  1799AF1F0C04010CE0530A8394277DC6                      as4   \n",
       "4  E8C4E50BC72A0102E0430A839427DC23                      as4   \n",
       "\n",
       "  AccidentSeverityCategory_de                         geometry  FK_STANDORT  \\\n",
       "0      Unfall mit Sachschaden  POINT (2680349.000 1241844.000)       3927.0   \n",
       "1      Unfall mit Sachschaden  POINT (2680551.000 1241911.000)       3927.0   \n",
       "2      Unfall mit Sachschaden  POINT (2680598.000 1242101.000)       3927.0   \n",
       "3      Unfall mit Sachschaden  POINT (2680786.000 1242093.000)       3927.0   \n",
       "4      Unfall mit Sachschaden  POINT (2680980.000 1242076.000)       3927.0   \n",
       "\n",
       "     Weight  \n",
       "0  0.067837  \n",
       "1  0.067837  \n",
       "2  0.067837  \n",
       "3  0.067837  \n",
       "4  0.067837  "
      ]
     },
     "execution_count": 64,
     "metadata": {},
     "output_type": "execute_result"
    }
   ],
   "source": [
    "Accidents_Zaehlstation_refined.head()"
   ]
  },
  {
   "cell_type": "code",
   "execution_count": null,
   "metadata": {},
   "outputs": [],
   "source": [
    "# Write File so Weights can be applied on the Bicycle Lanes in QGIS.\n",
    "Accidents_Zaehlstation_refined.to_file('Accidents_Zaehlstation_refined_Final.gpkg', driver='GPKG', layer='Accidents_Zaehlstation_refined')  \n"
   ]
  },
  {
   "cell_type": "markdown",
   "metadata": {},
   "source": [
    "Read Radwege"
   ]
  },
  {
   "cell_type": "code",
   "execution_count": 65,
   "metadata": {},
   "outputs": [
    {
     "name": "stderr",
     "output_type": "stream",
     "text": [
      "/opt/miniconda3/lib/python3.9/site-packages/geopandas/geodataframe.py:600: RuntimeWarning: Sequential read of iterator was interrupted. Resetting iterator. This can negatively impact the performance.\n",
      "  for feature in features_lst:\n"
     ]
    }
   ],
   "source": [
    "VeloWege_Weights = gpd.read_file(r'data/RadWege_Weight.gpkg')\n"
   ]
  },
  {
   "cell_type": "code",
   "execution_count": 66,
   "metadata": {},
   "outputs": [
    {
     "data": {
      "text/html": [
       "<div>\n",
       "<style scoped>\n",
       "    .dataframe tbody tr th:only-of-type {\n",
       "        vertical-align: middle;\n",
       "    }\n",
       "\n",
       "    .dataframe tbody tr th {\n",
       "        vertical-align: top;\n",
       "    }\n",
       "\n",
       "    .dataframe thead th {\n",
       "        text-align: right;\n",
       "    }\n",
       "</style>\n",
       "<table border=\"1\" class=\"dataframe\">\n",
       "  <thead>\n",
       "    <tr style=\"text-align: right;\">\n",
       "      <th></th>\n",
       "      <th>id</th>\n",
       "      <th>id1</th>\n",
       "      <th>velo</th>\n",
       "      <th>velostreifen</th>\n",
       "      <th>veloweg</th>\n",
       "      <th>einbahn</th>\n",
       "      <th>fuss</th>\n",
       "      <th>name</th>\n",
       "      <th>map_velo</th>\n",
       "      <th>map_fuss</th>\n",
       "      <th>se_anno_cad_data</th>\n",
       "      <th>objectid</th>\n",
       "      <th>Weight</th>\n",
       "      <th>geometry</th>\n",
       "    </tr>\n",
       "  </thead>\n",
       "  <tbody>\n",
       "    <tr>\n",
       "      <th>0</th>\n",
       "      <td>7534</td>\n",
       "      <td>4832</td>\n",
       "      <td>1</td>\n",
       "      <td>0</td>\n",
       "      <td>0</td>\n",
       "      <td>0</td>\n",
       "      <td>1</td>\n",
       "      <td>Risweg</td>\n",
       "      <td>0</td>\n",
       "      <td>0</td>\n",
       "      <td>b''</td>\n",
       "      <td>7556.0</td>\n",
       "      <td>0.067837</td>\n",
       "      <td>LINESTRING (2680608.456 1241937.390, 2680579.5...</td>\n",
       "    </tr>\n",
       "    <tr>\n",
       "      <th>1</th>\n",
       "      <td>7983</td>\n",
       "      <td>5491</td>\n",
       "      <td>1</td>\n",
       "      <td>0</td>\n",
       "      <td>0</td>\n",
       "      <td>0</td>\n",
       "      <td>1</td>\n",
       "      <td>Fussweg</td>\n",
       "      <td>0</td>\n",
       "      <td>0</td>\n",
       "      <td>b''</td>\n",
       "      <td>8011.0</td>\n",
       "      <td>0.067837</td>\n",
       "      <td>LINESTRING (2680608.456 1241937.390, 2680590.5...</td>\n",
       "    </tr>\n",
       "    <tr>\n",
       "      <th>2</th>\n",
       "      <td>17606</td>\n",
       "      <td>18931</td>\n",
       "      <td>1</td>\n",
       "      <td>0</td>\n",
       "      <td>0</td>\n",
       "      <td>0</td>\n",
       "      <td>1</td>\n",
       "      <td>Fussweg</td>\n",
       "      <td>0</td>\n",
       "      <td>0</td>\n",
       "      <td>b''</td>\n",
       "      <td>17680.0</td>\n",
       "      <td>0.067837</td>\n",
       "      <td>LINESTRING (2680640.530 1241963.451, 2680650.4...</td>\n",
       "    </tr>\n",
       "    <tr>\n",
       "      <th>3</th>\n",
       "      <td>19737</td>\n",
       "      <td>18449</td>\n",
       "      <td>1</td>\n",
       "      <td>0</td>\n",
       "      <td>0</td>\n",
       "      <td>0</td>\n",
       "      <td>1</td>\n",
       "      <td>Fussweg</td>\n",
       "      <td>0</td>\n",
       "      <td>0</td>\n",
       "      <td>b''</td>\n",
       "      <td>19824.0</td>\n",
       "      <td>0.067837</td>\n",
       "      <td>LINESTRING (2680655.387 1241931.557, 2680673.2...</td>\n",
       "    </tr>\n",
       "    <tr>\n",
       "      <th>4</th>\n",
       "      <td>3839</td>\n",
       "      <td>3852</td>\n",
       "      <td>1</td>\n",
       "      <td>0</td>\n",
       "      <td>0</td>\n",
       "      <td>0</td>\n",
       "      <td>1</td>\n",
       "      <td>Fussweg</td>\n",
       "      <td>0</td>\n",
       "      <td>1</td>\n",
       "      <td>b''</td>\n",
       "      <td>3848.0</td>\n",
       "      <td>0.067837</td>\n",
       "      <td>LINESTRING (2680663.388 1242134.614, 2680663.0...</td>\n",
       "    </tr>\n",
       "  </tbody>\n",
       "</table>\n",
       "</div>"
      ],
      "text/plain": [
       "      id    id1  velo velostreifen  veloweg einbahn  fuss     name  map_velo  \\\n",
       "0   7534   4832     1            0        0       0     1   Risweg         0   \n",
       "1   7983   5491     1            0        0       0     1  Fussweg         0   \n",
       "2  17606  18931     1            0        0       0     1  Fussweg         0   \n",
       "3  19737  18449     1            0        0       0     1  Fussweg         0   \n",
       "4   3839   3852     1            0        0       0     1  Fussweg         0   \n",
       "\n",
       "   map_fuss se_anno_cad_data  objectid    Weight  \\\n",
       "0         0              b''    7556.0  0.067837   \n",
       "1         0              b''    8011.0  0.067837   \n",
       "2         0              b''   17680.0  0.067837   \n",
       "3         0              b''   19824.0  0.067837   \n",
       "4         1              b''    3848.0  0.067837   \n",
       "\n",
       "                                            geometry  \n",
       "0  LINESTRING (2680608.456 1241937.390, 2680579.5...  \n",
       "1  LINESTRING (2680608.456 1241937.390, 2680590.5...  \n",
       "2  LINESTRING (2680640.530 1241963.451, 2680650.4...  \n",
       "3  LINESTRING (2680655.387 1241931.557, 2680673.2...  \n",
       "4  LINESTRING (2680663.388 1242134.614, 2680663.0...  "
      ]
     },
     "execution_count": 66,
     "metadata": {},
     "output_type": "execute_result"
    }
   ],
   "source": [
    "VeloWege_Weights.head()"
   ]
  },
  {
   "cell_type": "code",
   "execution_count": 69,
   "metadata": {},
   "outputs": [
    {
     "data": {
      "text/plain": [
       "<AxesSubplot:>"
      ]
     },
     "execution_count": 69,
     "metadata": {},
     "output_type": "execute_result"
    },
    {
     "data": {
      "image/png": "[encoded data removed]",
      "text/plain": [
       "<Figure size 432x288 with 1 Axes>"
      ]
     },
     "metadata": {
      "needs_background": "light"
     },
     "output_type": "display_data"
    }
   ],
   "source": [
    "VeloWege_Weights.plot(column='Weight', cmap='viridis')"
   ]
  }
 ],
 "metadata": {
  "kernelspec": {
   "display_name": "miniconda3",
   "language": "python",
   "name": "miniconda3"
  },
  "language_info": {
   "codemirror_mode": {
    "name": "ipython",
    "version": 3
   },
   "file_extension": ".py",
   "mimetype": "text/x-python",
   "name": "python",
   "nbconvert_exporter": "python",
   "pygments_lexer": "ipython3",
   "version": "3.9.7"
  },
  "orig_nbformat": 4
 },
 "nbformat": 4,
 "nbformat_minor": 2
}
